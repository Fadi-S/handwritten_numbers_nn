{
 "nbformat": 4,
 "nbformat_minor": 0,
 "metadata": {
  "colab": {
   "provenance": []
  },
  "kernelspec": {
   "name": "python3",
   "language": "python",
   "display_name": "Python 3 (ipykernel)"
  },
  "language_info": {
   "name": "python"
  }
 },
 "cells": [
  {
   "cell_type": "code",
   "execution_count": 419,
   "metadata": {
    "id": "QWdRpV4fc_R6",
    "ExecuteTime": {
     "end_time": "2024-03-04T10:05:52.410073Z",
     "start_time": "2024-03-04T10:05:52.407075Z"
    }
   },
   "outputs": [],
   "source": [
    "import numpy as np\n",
    "from tensorflow.keras.models import Sequential\n",
    "from tensorflow.keras.layers import Dense, Flatten, Dropout, BatchNormalization\n",
    "from tensorflow.keras.utils import to_categorical\n",
    "import matplotlib.pyplot as plt\n",
    "from tensorflow.keras.initializers import RandomNormal\n",
    "from tensorflow.keras.losses import CategoricalCrossentropy\n",
    "from tensorflow.keras.metrics import CategoricalAccuracy\n"
   ]
  },
  {
   "cell_type": "code",
   "source": [
    "!pip install mnist\n",
    "import mnist"
   ],
   "metadata": {
    "colab": {
     "base_uri": "https://localhost:8080/"
    },
    "id": "14M7T9Spdset",
    "outputId": "5aace69c-6156-44ba-8d1a-e00b41aecdc1",
    "ExecuteTime": {
     "end_time": "2024-03-04T10:05:53.995059Z",
     "start_time": "2024-03-04T10:05:52.412488Z"
    }
   },
   "execution_count": 420,
   "outputs": [
    {
     "name": "stdout",
     "output_type": "stream",
     "text": [
      "Requirement already satisfied: mnist in ./venv/lib/python3.11/site-packages (0.2.2)\r\n",
      "Requirement already satisfied: numpy in ./venv/lib/python3.11/site-packages (from mnist) (1.26.4)\r\n",
      "\r\n",
      "\u001B[1m[\u001B[0m\u001B[34;49mnotice\u001B[0m\u001B[1;39;49m]\u001B[0m\u001B[39;49m A new release of pip is available: \u001B[0m\u001B[31;49m23.2.1\u001B[0m\u001B[39;49m -> \u001B[0m\u001B[32;49m24.0\u001B[0m\r\n",
      "\u001B[1m[\u001B[0m\u001B[34;49mnotice\u001B[0m\u001B[1;39;49m]\u001B[0m\u001B[39;49m To update, run: \u001B[0m\u001B[32;49mpip install --upgrade pip\u001B[0m\r\n"
     ]
    }
   ]
  },
  {
   "cell_type": "code",
   "source": [
    "train_images = mnist.train_images()\n",
    "train_labels = mnist.train_labels()\n",
    "test_images = mnist.test_images()\n",
    "test_labels = mnist.test_labels()"
   ],
   "metadata": {
    "id": "--DjxVNvd3CJ",
    "ExecuteTime": {
     "end_time": "2024-03-04T10:05:54.153052Z",
     "start_time": "2024-03-04T10:05:53.994946Z"
    }
   },
   "execution_count": 421,
   "outputs": []
  },
  {
   "cell_type": "code",
   "source": [
    "# Normalize the images.\n",
    "train_images = (train_images / 255) - 0.5\n",
    "test_images = (test_images / 255) - 0.5"
   ],
   "metadata": {
    "id": "QFs6ugTfd6UR",
    "ExecuteTime": {
     "end_time": "2024-03-04T10:05:54.334971Z",
     "start_time": "2024-03-04T10:05:54.156165Z"
    }
   },
   "execution_count": 422,
   "outputs": []
  },
  {
   "cell_type": "code",
   "source": [
    "train_images.shape"
   ],
   "metadata": {
    "colab": {
     "base_uri": "https://localhost:8080/"
    },
    "id": "yR0Emj8Kd-im",
    "outputId": "79782fb5-d398-4cd1-ec7c-060ee2dababc",
    "ExecuteTime": {
     "end_time": "2024-03-04T10:05:54.348042Z",
     "start_time": "2024-03-04T10:05:54.343931Z"
    }
   },
   "execution_count": 423,
   "outputs": [
    {
     "data": {
      "text/plain": "(60000, 28, 28)"
     },
     "execution_count": 423,
     "metadata": {},
     "output_type": "execute_result"
    }
   ]
  },
  {
   "cell_type": "code",
   "source": [
    "# Reshape the images.\n",
    "train_images = np.expand_dims(train_images, axis=3)\n",
    "test_images = np.expand_dims(test_images, axis=3)"
   ],
   "metadata": {
    "id": "7WP94FHZeCSr",
    "ExecuteTime": {
     "end_time": "2024-03-04T10:05:54.355138Z",
     "start_time": "2024-03-04T10:05:54.350003Z"
    }
   },
   "execution_count": 424,
   "outputs": []
  },
  {
   "cell_type": "code",
   "execution_count": 425,
   "outputs": [
    {
     "data": {
      "text/plain": "(60000, 28, 28, 1)"
     },
     "execution_count": 425,
     "metadata": {},
     "output_type": "execute_result"
    }
   ],
   "source": [
    "train_images.shape"
   ],
   "metadata": {
    "collapsed": false,
    "ExecuteTime": {
     "end_time": "2024-03-04T10:05:54.379081Z",
     "start_time": "2024-03-04T10:05:54.354184Z"
    }
   }
  },
  {
   "cell_type": "code",
   "source": [
    "learning_rate = 0.01\n",
    "n_epochs = 100\n",
    "initializer = RandomNormal(mean=0., stddev=1.)"
   ],
   "metadata": {
    "id": "mv5qMKBKeRPv",
    "ExecuteTime": {
     "end_time": "2024-03-04T10:05:54.379876Z",
     "start_time": "2024-03-04T10:05:54.362878Z"
    }
   },
   "execution_count": 426,
   "outputs": []
  },
  {
   "cell_type": "code",
   "source": [
    "model = Sequential()\n",
    "model.add(Flatten(input_shape=(28, 28)))\n",
    "\n",
    "model.add(Dense(128, activation='relu', kernel_initializer=initializer))\n",
    "model.add(BatchNormalization())\n",
    "model.add(Dropout(0.2))\n",
    "\n",
    "model.add(Dense(128, activation='relu', kernel_initializer=initializer))\n",
    "model.add(BatchNormalization())\n",
    "model.add(Dropout(0.2))\n",
    "\n",
    "model.add(Dense(64, activation='relu', kernel_initializer=initializer))\n",
    "model.add(BatchNormalization())\n",
    "model.add(Dropout(0.3))\n",
    "\n",
    "model.add(Dense(10, activation='softmax', kernel_initializer=initializer))"
   ],
   "metadata": {
    "colab": {
     "base_uri": "https://localhost:8080/"
    },
    "id": "0T2ceBnUee1H",
    "outputId": "bec81dce-eff1-46bc-fa34-e987ec2d0327",
    "ExecuteTime": {
     "end_time": "2024-03-04T10:05:54.534330Z",
     "start_time": "2024-03-04T10:05:54.406244Z"
    }
   },
   "execution_count": 427,
   "outputs": []
  },
  {
   "cell_type": "code",
   "source": [
    "from tensorflow.keras.callbacks import EarlyStopping\n",
    "\n",
    "early_stopping = EarlyStopping(\n",
    "    monitor='val_loss', patience=15, restore_best_weights=True\n",
    ")\n",
    "\n",
    "model.compile(\n",
    "    optimizer='adam',\n",
    "    loss=CategoricalCrossentropy(),\n",
    "    metrics=[CategoricalAccuracy()],\n",
    ")\n",
    "\n",
    "history = model.fit(\n",
    "    train_images,\n",
    "    to_categorical(train_labels),\n",
    "    epochs=n_epochs,\n",
    "    validation_data=(test_images, to_categorical(test_labels)),\n",
    "    callbacks=[early_stopping]\n",
    ")"
   ],
   "metadata": {
    "colab": {
     "base_uri": "https://localhost:8080/"
    },
    "id": "fDsQI6Bxeo3U",
    "outputId": "b5056a49-bb6c-4a1a-fe5c-539073d54fae",
    "ExecuteTime": {
     "end_time": "2024-03-04T10:08:53.933189Z",
     "start_time": "2024-03-04T10:05:54.539375Z"
    }
   },
   "execution_count": 428,
   "outputs": [
    {
     "name": "stdout",
     "output_type": "stream",
     "text": [
      "Epoch 1/100\n",
      "1875/1875 [==============================] - 14s 7ms/step - loss: 3.1709 - categorical_accuracy: 0.5517 - val_loss: 0.4892 - val_categorical_accuracy: 0.8615\n",
      "Epoch 2/100\n",
      "1875/1875 [==============================] - 2s 995us/step - loss: 0.8404 - categorical_accuracy: 0.7562 - val_loss: 0.3312 - val_categorical_accuracy: 0.9037\n",
      "Epoch 3/100\n",
      "1875/1875 [==============================] - 2s 1ms/step - loss: 0.5746 - categorical_accuracy: 0.8202 - val_loss: 0.2669 - val_categorical_accuracy: 0.9200\n",
      "Epoch 4/100\n",
      "1875/1875 [==============================] - 2s 992us/step - loss: 0.4606 - categorical_accuracy: 0.8589 - val_loss: 0.2245 - val_categorical_accuracy: 0.9333\n",
      "Epoch 5/100\n",
      "1875/1875 [==============================] - 2s 986us/step - loss: 0.3944 - categorical_accuracy: 0.8783 - val_loss: 0.1972 - val_categorical_accuracy: 0.9386\n",
      "Epoch 6/100\n",
      "1875/1875 [==============================] - 2s 985us/step - loss: 0.3479 - categorical_accuracy: 0.8924 - val_loss: 0.1744 - val_categorical_accuracy: 0.9480\n",
      "Epoch 7/100\n",
      "1875/1875 [==============================] - 2s 992us/step - loss: 0.3122 - categorical_accuracy: 0.9064 - val_loss: 0.1601 - val_categorical_accuracy: 0.9502\n",
      "Epoch 8/100\n",
      "1875/1875 [==============================] - 2s 992us/step - loss: 0.2873 - categorical_accuracy: 0.9125 - val_loss: 0.1472 - val_categorical_accuracy: 0.9556\n",
      "Epoch 9/100\n",
      "1875/1875 [==============================] - 2s 987us/step - loss: 0.2685 - categorical_accuracy: 0.9188 - val_loss: 0.1385 - val_categorical_accuracy: 0.9582\n",
      "Epoch 10/100\n",
      "1875/1875 [==============================] - 2s 979us/step - loss: 0.2534 - categorical_accuracy: 0.9236 - val_loss: 0.1286 - val_categorical_accuracy: 0.9596\n",
      "Epoch 11/100\n",
      "1875/1875 [==============================] - 2s 985us/step - loss: 0.2373 - categorical_accuracy: 0.9282 - val_loss: 0.1225 - val_categorical_accuracy: 0.9630\n",
      "Epoch 12/100\n",
      "1875/1875 [==============================] - 2s 970us/step - loss: 0.2277 - categorical_accuracy: 0.9302 - val_loss: 0.1192 - val_categorical_accuracy: 0.9644\n",
      "Epoch 13/100\n",
      "1875/1875 [==============================] - 2s 975us/step - loss: 0.2238 - categorical_accuracy: 0.9330 - val_loss: 0.1164 - val_categorical_accuracy: 0.9647\n",
      "Epoch 14/100\n",
      "1875/1875 [==============================] - 2s 977us/step - loss: 0.2109 - categorical_accuracy: 0.9362 - val_loss: 0.1113 - val_categorical_accuracy: 0.9658\n",
      "Epoch 15/100\n",
      "1875/1875 [==============================] - 2s 973us/step - loss: 0.2027 - categorical_accuracy: 0.9385 - val_loss: 0.1058 - val_categorical_accuracy: 0.9670\n",
      "Epoch 16/100\n",
      "1875/1875 [==============================] - 2s 986us/step - loss: 0.1976 - categorical_accuracy: 0.9408 - val_loss: 0.1012 - val_categorical_accuracy: 0.9680\n",
      "Epoch 17/100\n",
      "1875/1875 [==============================] - 2s 981us/step - loss: 0.1923 - categorical_accuracy: 0.9422 - val_loss: 0.0974 - val_categorical_accuracy: 0.9704\n",
      "Epoch 18/100\n",
      "1875/1875 [==============================] - 2s 984us/step - loss: 0.1831 - categorical_accuracy: 0.9445 - val_loss: 0.0974 - val_categorical_accuracy: 0.9703\n",
      "Epoch 19/100\n",
      "1875/1875 [==============================] - 2s 979us/step - loss: 0.1794 - categorical_accuracy: 0.9457 - val_loss: 0.0996 - val_categorical_accuracy: 0.9696\n",
      "Epoch 20/100\n",
      "1875/1875 [==============================] - 2s 978us/step - loss: 0.1721 - categorical_accuracy: 0.9467 - val_loss: 0.0925 - val_categorical_accuracy: 0.9723\n",
      "Epoch 21/100\n",
      "1875/1875 [==============================] - 2s 983us/step - loss: 0.1706 - categorical_accuracy: 0.9483 - val_loss: 0.0900 - val_categorical_accuracy: 0.9714\n",
      "Epoch 22/100\n",
      "1875/1875 [==============================] - 2s 1ms/step - loss: 0.1633 - categorical_accuracy: 0.9504 - val_loss: 0.0878 - val_categorical_accuracy: 0.9735\n",
      "Epoch 23/100\n",
      "1875/1875 [==============================] - 2s 1ms/step - loss: 0.1590 - categorical_accuracy: 0.9514 - val_loss: 0.0853 - val_categorical_accuracy: 0.9752\n",
      "Epoch 24/100\n",
      "1875/1875 [==============================] - 2s 1ms/step - loss: 0.1564 - categorical_accuracy: 0.9520 - val_loss: 0.0853 - val_categorical_accuracy: 0.9723\n",
      "Epoch 25/100\n",
      "1875/1875 [==============================] - 2s 1ms/step - loss: 0.1520 - categorical_accuracy: 0.9537 - val_loss: 0.0823 - val_categorical_accuracy: 0.9738\n",
      "Epoch 26/100\n",
      "1875/1875 [==============================] - 3s 1ms/step - loss: 0.1502 - categorical_accuracy: 0.9545 - val_loss: 0.0832 - val_categorical_accuracy: 0.9744\n",
      "Epoch 27/100\n",
      "1875/1875 [==============================] - 2s 1ms/step - loss: 0.1466 - categorical_accuracy: 0.9554 - val_loss: 0.0828 - val_categorical_accuracy: 0.9749\n",
      "Epoch 28/100\n",
      "1875/1875 [==============================] - 2s 1ms/step - loss: 0.1430 - categorical_accuracy: 0.9572 - val_loss: 0.0793 - val_categorical_accuracy: 0.9763\n",
      "Epoch 29/100\n",
      "1875/1875 [==============================] - 2s 1ms/step - loss: 0.1404 - categorical_accuracy: 0.9570 - val_loss: 0.0782 - val_categorical_accuracy: 0.9771\n",
      "Epoch 30/100\n",
      "1875/1875 [==============================] - 5s 3ms/step - loss: 0.1396 - categorical_accuracy: 0.9573 - val_loss: 0.0774 - val_categorical_accuracy: 0.9758\n",
      "Epoch 31/100\n",
      "1875/1875 [==============================] - 3s 2ms/step - loss: 0.1377 - categorical_accuracy: 0.9580 - val_loss: 0.0810 - val_categorical_accuracy: 0.9752\n",
      "Epoch 32/100\n",
      "1875/1875 [==============================] - 3s 2ms/step - loss: 0.1339 - categorical_accuracy: 0.9588 - val_loss: 0.0764 - val_categorical_accuracy: 0.9758\n",
      "Epoch 33/100\n",
      "1875/1875 [==============================] - 3s 2ms/step - loss: 0.1336 - categorical_accuracy: 0.9588 - val_loss: 0.0762 - val_categorical_accuracy: 0.9770\n",
      "Epoch 34/100\n",
      "1875/1875 [==============================] - 3s 2ms/step - loss: 0.1321 - categorical_accuracy: 0.9599 - val_loss: 0.0765 - val_categorical_accuracy: 0.9772\n",
      "Epoch 35/100\n",
      "1875/1875 [==============================] - 3s 2ms/step - loss: 0.1298 - categorical_accuracy: 0.9595 - val_loss: 0.0764 - val_categorical_accuracy: 0.9781\n",
      "Epoch 36/100\n",
      "1875/1875 [==============================] - 2s 1ms/step - loss: 0.1267 - categorical_accuracy: 0.9611 - val_loss: 0.0734 - val_categorical_accuracy: 0.9772\n",
      "Epoch 37/100\n",
      "1875/1875 [==============================] - 3s 2ms/step - loss: 0.1255 - categorical_accuracy: 0.9618 - val_loss: 0.0733 - val_categorical_accuracy: 0.9775\n",
      "Epoch 38/100\n",
      "1875/1875 [==============================] - 2s 1ms/step - loss: 0.1214 - categorical_accuracy: 0.9627 - val_loss: 0.0715 - val_categorical_accuracy: 0.9778\n",
      "Epoch 39/100\n",
      "1875/1875 [==============================] - 2s 1ms/step - loss: 0.1195 - categorical_accuracy: 0.9633 - val_loss: 0.0739 - val_categorical_accuracy: 0.9783\n",
      "Epoch 40/100\n",
      "1875/1875 [==============================] - 3s 2ms/step - loss: 0.1203 - categorical_accuracy: 0.9633 - val_loss: 0.0695 - val_categorical_accuracy: 0.9780\n",
      "Epoch 41/100\n",
      "1875/1875 [==============================] - 3s 1ms/step - loss: 0.1172 - categorical_accuracy: 0.9635 - val_loss: 0.0707 - val_categorical_accuracy: 0.9786\n",
      "Epoch 42/100\n",
      "1875/1875 [==============================] - 2s 1ms/step - loss: 0.1172 - categorical_accuracy: 0.9635 - val_loss: 0.0696 - val_categorical_accuracy: 0.9788\n",
      "Epoch 43/100\n",
      "1875/1875 [==============================] - 2s 1ms/step - loss: 0.1109 - categorical_accuracy: 0.9659 - val_loss: 0.0712 - val_categorical_accuracy: 0.9775\n",
      "Epoch 44/100\n",
      "1875/1875 [==============================] - 2s 1ms/step - loss: 0.1106 - categorical_accuracy: 0.9657 - val_loss: 0.0682 - val_categorical_accuracy: 0.9787\n",
      "Epoch 45/100\n",
      "1875/1875 [==============================] - 2s 1ms/step - loss: 0.1120 - categorical_accuracy: 0.9651 - val_loss: 0.0656 - val_categorical_accuracy: 0.9787\n",
      "Epoch 46/100\n",
      "1875/1875 [==============================] - 2s 1ms/step - loss: 0.1112 - categorical_accuracy: 0.9651 - val_loss: 0.0648 - val_categorical_accuracy: 0.9805\n",
      "Epoch 47/100\n",
      "1875/1875 [==============================] - 2s 1ms/step - loss: 0.1098 - categorical_accuracy: 0.9656 - val_loss: 0.0677 - val_categorical_accuracy: 0.9799\n",
      "Epoch 48/100\n",
      "1875/1875 [==============================] - 2s 1ms/step - loss: 0.1069 - categorical_accuracy: 0.9666 - val_loss: 0.0654 - val_categorical_accuracy: 0.9789\n",
      "Epoch 49/100\n",
      "1875/1875 [==============================] - 2s 1ms/step - loss: 0.1065 - categorical_accuracy: 0.9667 - val_loss: 0.0669 - val_categorical_accuracy: 0.9795\n",
      "Epoch 50/100\n",
      "1875/1875 [==============================] - 2s 1ms/step - loss: 0.1068 - categorical_accuracy: 0.9671 - val_loss: 0.0679 - val_categorical_accuracy: 0.9795\n",
      "Epoch 51/100\n",
      "1875/1875 [==============================] - 2s 1ms/step - loss: 0.1035 - categorical_accuracy: 0.9681 - val_loss: 0.0661 - val_categorical_accuracy: 0.9795\n",
      "Epoch 52/100\n",
      "1875/1875 [==============================] - 2s 1ms/step - loss: 0.0994 - categorical_accuracy: 0.9686 - val_loss: 0.0660 - val_categorical_accuracy: 0.9798\n",
      "Epoch 53/100\n",
      "1875/1875 [==============================] - 2s 1ms/step - loss: 0.0973 - categorical_accuracy: 0.9693 - val_loss: 0.0677 - val_categorical_accuracy: 0.9791\n",
      "Epoch 54/100\n",
      "1875/1875 [==============================] - 2s 995us/step - loss: 0.1000 - categorical_accuracy: 0.9691 - val_loss: 0.0669 - val_categorical_accuracy: 0.9790\n",
      "Epoch 55/100\n",
      "1875/1875 [==============================] - 2s 993us/step - loss: 0.0987 - categorical_accuracy: 0.9692 - val_loss: 0.0661 - val_categorical_accuracy: 0.9804\n",
      "Epoch 56/100\n",
      "1875/1875 [==============================] - 2s 990us/step - loss: 0.1000 - categorical_accuracy: 0.9683 - val_loss: 0.0742 - val_categorical_accuracy: 0.9793\n",
      "Epoch 57/100\n",
      "1875/1875 [==============================] - 2s 1ms/step - loss: 0.0968 - categorical_accuracy: 0.9696 - val_loss: 0.0621 - val_categorical_accuracy: 0.9813\n",
      "Epoch 58/100\n",
      "1875/1875 [==============================] - 2s 995us/step - loss: 0.0960 - categorical_accuracy: 0.9701 - val_loss: 0.0667 - val_categorical_accuracy: 0.9798\n",
      "Epoch 59/100\n",
      "1875/1875 [==============================] - 2s 992us/step - loss: 0.0953 - categorical_accuracy: 0.9698 - val_loss: 0.0642 - val_categorical_accuracy: 0.9804\n",
      "Epoch 60/100\n",
      "1875/1875 [==============================] - 2s 991us/step - loss: 0.0945 - categorical_accuracy: 0.9696 - val_loss: 0.0650 - val_categorical_accuracy: 0.9800\n",
      "Epoch 61/100\n",
      "1875/1875 [==============================] - 2s 988us/step - loss: 0.0948 - categorical_accuracy: 0.9693 - val_loss: 0.0607 - val_categorical_accuracy: 0.9809\n",
      "Epoch 62/100\n",
      "1875/1875 [==============================] - 2s 985us/step - loss: 0.0938 - categorical_accuracy: 0.9708 - val_loss: 0.0623 - val_categorical_accuracy: 0.9800\n",
      "Epoch 63/100\n",
      "1875/1875 [==============================] - 2s 986us/step - loss: 0.0929 - categorical_accuracy: 0.9714 - val_loss: 0.0629 - val_categorical_accuracy: 0.9818\n",
      "Epoch 64/100\n",
      "1875/1875 [==============================] - 2s 995us/step - loss: 0.0913 - categorical_accuracy: 0.9712 - val_loss: 0.0587 - val_categorical_accuracy: 0.9814\n",
      "Epoch 65/100\n",
      "1875/1875 [==============================] - 2s 997us/step - loss: 0.0905 - categorical_accuracy: 0.9714 - val_loss: 0.0628 - val_categorical_accuracy: 0.9814\n",
      "Epoch 66/100\n",
      "1875/1875 [==============================] - 2s 1ms/step - loss: 0.0898 - categorical_accuracy: 0.9711 - val_loss: 0.0609 - val_categorical_accuracy: 0.9821\n",
      "Epoch 67/100\n",
      "1875/1875 [==============================] - 2s 1ms/step - loss: 0.0878 - categorical_accuracy: 0.9719 - val_loss: 0.0632 - val_categorical_accuracy: 0.9807\n",
      "Epoch 68/100\n",
      "1875/1875 [==============================] - 2s 1ms/step - loss: 0.0867 - categorical_accuracy: 0.9730 - val_loss: 0.0613 - val_categorical_accuracy: 0.9804\n",
      "Epoch 69/100\n",
      "1875/1875 [==============================] - 2s 1ms/step - loss: 0.0901 - categorical_accuracy: 0.9716 - val_loss: 0.0588 - val_categorical_accuracy: 0.9816\n",
      "Epoch 70/100\n",
      "1875/1875 [==============================] - 2s 1ms/step - loss: 0.0871 - categorical_accuracy: 0.9725 - val_loss: 0.0630 - val_categorical_accuracy: 0.9808\n",
      "Epoch 71/100\n",
      "1875/1875 [==============================] - 2s 1ms/step - loss: 0.0834 - categorical_accuracy: 0.9733 - val_loss: 0.0603 - val_categorical_accuracy: 0.9809\n",
      "Epoch 72/100\n",
      "1875/1875 [==============================] - 2s 1ms/step - loss: 0.0877 - categorical_accuracy: 0.9730 - val_loss: 0.0644 - val_categorical_accuracy: 0.9801\n",
      "Epoch 73/100\n",
      "1875/1875 [==============================] - 2s 1ms/step - loss: 0.0871 - categorical_accuracy: 0.9725 - val_loss: 0.0607 - val_categorical_accuracy: 0.9821\n",
      "Epoch 74/100\n",
      "1875/1875 [==============================] - 2s 1ms/step - loss: 0.0880 - categorical_accuracy: 0.9719 - val_loss: 0.0621 - val_categorical_accuracy: 0.9824\n",
      "Epoch 75/100\n",
      "1875/1875 [==============================] - 2s 1ms/step - loss: 0.0859 - categorical_accuracy: 0.9732 - val_loss: 0.0653 - val_categorical_accuracy: 0.9813\n",
      "Epoch 76/100\n",
      "1875/1875 [==============================] - 2s 1ms/step - loss: 0.0811 - categorical_accuracy: 0.9743 - val_loss: 0.0606 - val_categorical_accuracy: 0.9811\n",
      "Epoch 77/100\n",
      "1875/1875 [==============================] - 2s 1ms/step - loss: 0.0829 - categorical_accuracy: 0.9736 - val_loss: 0.0613 - val_categorical_accuracy: 0.9806\n",
      "Epoch 78/100\n",
      "1875/1875 [==============================] - 2s 1ms/step - loss: 0.0793 - categorical_accuracy: 0.9743 - val_loss: 0.0635 - val_categorical_accuracy: 0.9821\n",
      "Epoch 79/100\n",
      "1875/1875 [==============================] - 3s 1ms/step - loss: 0.0854 - categorical_accuracy: 0.9730 - val_loss: 0.0606 - val_categorical_accuracy: 0.9818\n"
     ]
    }
   ]
  },
  {
   "cell_type": "code",
   "source": [
    "plt.figure(figsize=(12, 6))\n",
    "\n",
    "plt.subplot(1, 2, 1)\n",
    "plt.plot(history.history['categorical_accuracy'])\n",
    "plt.plot(history.history['val_categorical_accuracy'])\n",
    "plt.title('Model Accuracy')\n",
    "plt.ylabel('Accuracy')\n",
    "plt.xlabel('Epoch')\n",
    "plt.legend(['Train', 'Validation'], loc='upper left')\n",
    "\n",
    "# Plotting loss\n",
    "plt.subplot(1, 2, 2)\n",
    "plt.plot(history.history['loss'][1:])\n",
    "plt.plot(history.history['val_loss'])\n",
    "plt.title('Model Loss')\n",
    "plt.ylabel('Loss')\n",
    "plt.xlabel('Epoch')\n",
    "plt.legend(['Train', 'Validation'], loc='upper left')\n",
    "\n",
    "plt.tight_layout()\n",
    "plt.show()"
   ],
   "metadata": {
    "colab": {
     "base_uri": "https://localhost:8080/",
     "height": 927
    },
    "id": "_Q4cjXkxevGN",
    "outputId": "67d8e014-87c6-4658-c53b-73feb5f8fe18",
    "ExecuteTime": {
     "end_time": "2024-03-04T10:08:54.466337Z",
     "start_time": "2024-03-04T10:08:53.959637Z"
    }
   },
   "execution_count": 429,
   "outputs": [
    {
     "data": {
      "text/plain": "<Figure size 1200x600 with 2 Axes>",
      "image/png": "[encoded data removed]"
     },
     "metadata": {},
     "output_type": "display_data"
    }
   ]
  },
  {
   "cell_type": "code",
   "source": [
    "predictions = model.predict(test_images[:5])\n",
    "\n",
    "print(\"Predictions:\", np.argmax(predictions, axis=1), np.max(np.multiply(predictions, 100), axis=1)) # [7, 2, 1, 0, 4]\n",
    "print(\"Actual:     \", test_labels[:5])  # [7, 2, 1, 0, 4]"
   ],
   "metadata": {
    "colab": {
     "base_uri": "https://localhost:8080/"
    },
    "id": "g6wNiQVNey0E",
    "outputId": "bb39dfb8-4d84-40c1-be7c-cc98ad2ed63b",
    "ExecuteTime": {
     "end_time": "2024-03-04T11:56:06.450623Z",
     "start_time": "2024-03-04T11:56:06.409565Z"
    }
   },
   "execution_count": 441,
   "outputs": [
    {
     "name": "stdout",
     "output_type": "stream",
     "text": [
      "1/1 [==============================] - 0s 15ms/step\n",
      "Predictions: [7 2 1 0 4] [99.979706 99.992096 99.9935   99.99661  99.961105]\n",
      "Actual:      [7 2 1 0 4]\n"
     ]
    }
   ]
  },
  {
   "cell_type": "code",
   "execution_count": 431,
   "outputs": [],
   "source": [
    "model.save('model.keras')"
   ],
   "metadata": {
    "collapsed": false,
    "ExecuteTime": {
     "end_time": "2024-03-04T10:08:54.789534Z",
     "start_time": "2024-03-04T10:08:54.692675Z"
    }
   }
  }
 ]
}
