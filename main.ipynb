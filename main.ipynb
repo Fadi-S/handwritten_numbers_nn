{
 "nbformat": 4,
 "nbformat_minor": 0,
 "metadata": {
  "colab": {
   "provenance": []
  },
  "kernelspec": {
   "name": "python3",
   "language": "python",
   "display_name": "Python 3 (ipykernel)"
  },
  "language_info": {
   "name": "python"
  }
 },
 "cells": [
  {
   "cell_type": "code",
   "execution_count": 345,
   "metadata": {
    "id": "QWdRpV4fc_R6",
    "ExecuteTime": {
     "end_time": "2024-03-03T01:01:20.801301Z",
     "start_time": "2024-03-03T01:01:20.783005Z"
    }
   },
   "outputs": [],
   "source": [
    "import numpy as np\n",
    "from tensorflow.keras.models import Sequential\n",
    "from tensorflow.keras.layers import Dense, Flatten, Dropout, BatchNormalization\n",
    "from tensorflow.keras.utils import to_categorical\n",
    "import matplotlib.pyplot as plt\n",
    "from tensorflow.keras.initializers import RandomNormal\n",
    "from tensorflow.keras.losses import SparseCategoricalCrossentropy, CategoricalCrossentropy\n",
    "from tensorflow.keras.metrics import SparseCategoricalAccuracy, CategoricalAccuracy\n"
   ]
  },
  {
   "cell_type": "code",
   "source": [
    "!pip install mnist\n",
    "import mnist"
   ],
   "metadata": {
    "colab": {
     "base_uri": "https://localhost:8080/"
    },
    "id": "14M7T9Spdset",
    "outputId": "5aace69c-6156-44ba-8d1a-e00b41aecdc1",
    "ExecuteTime": {
     "end_time": "2024-03-03T01:01:22.020315Z",
     "start_time": "2024-03-03T01:01:20.789865Z"
    }
   },
   "execution_count": 346,
   "outputs": [
    {
     "name": "stdout",
     "output_type": "stream",
     "text": [
      "Requirement already satisfied: mnist in ./venv/lib/python3.11/site-packages (0.2.2)\r\n",
      "Requirement already satisfied: numpy in ./venv/lib/python3.11/site-packages (from mnist) (1.26.4)\r\n",
      "\r\n",
      "\u001B[1m[\u001B[0m\u001B[34;49mnotice\u001B[0m\u001B[1;39;49m]\u001B[0m\u001B[39;49m A new release of pip is available: \u001B[0m\u001B[31;49m23.2.1\u001B[0m\u001B[39;49m -> \u001B[0m\u001B[32;49m24.0\u001B[0m\r\n",
      "\u001B[1m[\u001B[0m\u001B[34;49mnotice\u001B[0m\u001B[1;39;49m]\u001B[0m\u001B[39;49m To update, run: \u001B[0m\u001B[32;49mpip install --upgrade pip\u001B[0m\r\n"
     ]
    }
   ]
  },
  {
   "cell_type": "code",
   "source": [
    "train_images = mnist.train_images()\n",
    "train_labels = mnist.train_labels()\n",
    "test_images = mnist.test_images()\n",
    "test_labels = mnist.test_labels()"
   ],
   "metadata": {
    "id": "--DjxVNvd3CJ",
    "ExecuteTime": {
     "end_time": "2024-03-03T01:01:22.174335Z",
     "start_time": "2024-03-03T01:01:22.021851Z"
    }
   },
   "execution_count": 347,
   "outputs": []
  },
  {
   "cell_type": "code",
   "source": [
    "# Normalize the images.\n",
    "train_images = (train_images / 255) - 0.5\n",
    "test_images = (test_images / 255) - 0.5"
   ],
   "metadata": {
    "id": "QFs6ugTfd6UR",
    "ExecuteTime": {
     "end_time": "2024-03-03T01:01:22.298368Z",
     "start_time": "2024-03-03T01:01:22.176140Z"
    }
   },
   "execution_count": 348,
   "outputs": []
  },
  {
   "cell_type": "code",
   "source": [
    "train_images.shape"
   ],
   "metadata": {
    "colab": {
     "base_uri": "https://localhost:8080/"
    },
    "id": "yR0Emj8Kd-im",
    "outputId": "79782fb5-d398-4cd1-ec7c-060ee2dababc",
    "ExecuteTime": {
     "end_time": "2024-03-03T01:01:22.301257Z",
     "start_time": "2024-03-03T01:01:22.299396Z"
    }
   },
   "execution_count": 349,
   "outputs": [
    {
     "data": {
      "text/plain": "(60000, 28, 28)"
     },
     "execution_count": 349,
     "metadata": {},
     "output_type": "execute_result"
    }
   ]
  },
  {
   "cell_type": "code",
   "source": [
    "# Reshape the images.\n",
    "train_images = np.expand_dims(train_images, axis=3)\n",
    "test_images = np.expand_dims(test_images, axis=3)"
   ],
   "metadata": {
    "id": "7WP94FHZeCSr",
    "ExecuteTime": {
     "end_time": "2024-03-03T01:01:22.304049Z",
     "start_time": "2024-03-03T01:01:22.301787Z"
    }
   },
   "execution_count": 350,
   "outputs": []
  },
  {
   "cell_type": "code",
   "source": [
    "train_images.shape"
   ],
   "metadata": {
    "colab": {
     "base_uri": "https://localhost:8080/"
    },
    "id": "3Bhq-R7LeFJV",
    "outputId": "cdad9c44-feae-4044-e46c-1f37d4e8541e",
    "ExecuteTime": {
     "end_time": "2024-03-03T01:01:22.306449Z",
     "start_time": "2024-03-03T01:01:22.304606Z"
    }
   },
   "execution_count": 351,
   "outputs": [
    {
     "data": {
      "text/plain": "(60000, 28, 28, 1)"
     },
     "execution_count": 351,
     "metadata": {},
     "output_type": "execute_result"
    }
   ]
  },
  {
   "cell_type": "code",
   "source": [
    "plt.imshow(train_images[7][:, :, 0], cmap='gray')  #,cmap='grayscale' google greyscale in matplot\n",
    "plt.show()"
   ],
   "metadata": {
    "colab": {
     "base_uri": "https://localhost:8080/",
     "height": 430
    },
    "id": "A1AmkUApeLT0",
    "outputId": "e2f8f02d-2cca-4238-85a1-f848388007c2",
    "ExecuteTime": {
     "end_time": "2024-03-03T01:01:22.406387Z",
     "start_time": "2024-03-03T01:01:22.308983Z"
    }
   },
   "execution_count": 352,
   "outputs": [
    {
     "data": {
      "text/plain": "<Figure size 640x480 with 1 Axes>",
      "image/png": "[encoded data removed]"
     },
     "metadata": {},
     "output_type": "display_data"
    }
   ]
  },
  {
   "cell_type": "code",
   "source": [
    "train_labels[7]"
   ],
   "metadata": {
    "colab": {
     "base_uri": "https://localhost:8080/"
    },
    "id": "kEIN-OH0eNIt",
    "outputId": "a28ca049-8423-42b7-ebd9-7049671670e5",
    "ExecuteTime": {
     "end_time": "2024-03-03T01:01:22.412798Z",
     "start_time": "2024-03-03T01:01:22.407963Z"
    }
   },
   "execution_count": 353,
   "outputs": [
    {
     "data": {
      "text/plain": "3"
     },
     "execution_count": 353,
     "metadata": {},
     "output_type": "execute_result"
    }
   ]
  },
  {
   "cell_type": "code",
   "source": [
    "learning_rate = 0.008\n",
    "n_epochs = 35\n",
    "initializer = RandomNormal(mean=0., stddev=1.)"
   ],
   "metadata": {
    "id": "mv5qMKBKeRPv",
    "ExecuteTime": {
     "end_time": "2024-03-03T01:01:22.421625Z",
     "start_time": "2024-03-03T01:01:22.417783Z"
    }
   },
   "execution_count": 354,
   "outputs": []
  },
  {
   "cell_type": "code",
   "source": [
    "model = Sequential()\n",
    "model.add(Flatten(input_shape=(28, 28)))\n",
    "\n",
    "model.add(Dense(128, activation='relu', kernel_initializer=initializer))\n",
    "model.add(BatchNormalization())\n",
    "model.add(Dropout(0.2))\n",
    "\n",
    "model.add(Dense(64, activation='relu', kernel_initializer=initializer))\n",
    "model.add(BatchNormalization())\n",
    "model.add(Dropout(0.3))\n",
    "\n",
    "model.add(Dense(64, activation='relu', kernel_initializer=initializer))\n",
    "model.add(BatchNormalization())\n",
    "model.add(Dropout(0.4))\n",
    "\n",
    "model.add(Dense(10, activation='softmax', kernel_initializer=initializer))"
   ],
   "metadata": {
    "colab": {
     "base_uri": "https://localhost:8080/"
    },
    "id": "0T2ceBnUee1H",
    "outputId": "bec81dce-eff1-46bc-fa34-e987ec2d0327",
    "ExecuteTime": {
     "end_time": "2024-03-03T01:01:22.568648Z",
     "start_time": "2024-03-03T01:01:22.420749Z"
    }
   },
   "execution_count": 355,
   "outputs": []
  },
  {
   "cell_type": "code",
   "source": [
    "from tensorflow.keras.callbacks import EarlyStopping\n",
    "\n",
    "early_stopping = EarlyStopping(\n",
    "    monitor='val_loss', patience=5, restore_best_weights=True\n",
    ")\n",
    "\n",
    "model.compile(\n",
    "    optimizer='adam',\n",
    "    loss=CategoricalCrossentropy(),\n",
    "    metrics=[CategoricalAccuracy()],\n",
    ")\n",
    "\n",
    "history = model.fit(\n",
    "    train_images,\n",
    "    to_categorical(train_labels),\n",
    "    epochs=n_epochs,\n",
    "    validation_data=(test_images, to_categorical(test_labels)),\n",
    "    callbacks=[early_stopping]\n",
    ")"
   ],
   "metadata": {
    "colab": {
     "base_uri": "https://localhost:8080/"
    },
    "id": "fDsQI6Bxeo3U",
    "outputId": "b5056a49-bb6c-4a1a-fe5c-539073d54fae",
    "ExecuteTime": {
     "end_time": "2024-03-03T01:02:27.881109Z",
     "start_time": "2024-03-03T01:01:22.572443Z"
    }
   },
   "execution_count": 356,
   "outputs": [
    {
     "name": "stdout",
     "output_type": "stream",
     "text": [
      "Epoch 1/35\n",
      "1875/1875 [==============================] - 2s 1ms/step - loss: 4.1431 - categorical_accuracy: 0.4487 - val_loss: 0.5864 - val_categorical_accuracy: 0.8287\n",
      "Epoch 2/35\n",
      "1875/1875 [==============================] - 2s 933us/step - loss: 1.0488 - categorical_accuracy: 0.6821 - val_loss: 0.4398 - val_categorical_accuracy: 0.8742\n",
      "Epoch 3/35\n",
      "1875/1875 [==============================] - 2s 1ms/step - loss: 0.7274 - categorical_accuracy: 0.7717 - val_loss: 0.3314 - val_categorical_accuracy: 0.9031\n",
      "Epoch 4/35\n",
      "1875/1875 [==============================] - 2s 1ms/step - loss: 0.5824 - categorical_accuracy: 0.8200 - val_loss: 0.2772 - val_categorical_accuracy: 0.9166\n",
      "Epoch 5/35\n",
      "1875/1875 [==============================] - 2s 907us/step - loss: 0.4892 - categorical_accuracy: 0.8523 - val_loss: 0.2386 - val_categorical_accuracy: 0.9292\n",
      "Epoch 6/35\n",
      "1875/1875 [==============================] - 2s 929us/step - loss: 0.4309 - categorical_accuracy: 0.8704 - val_loss: 0.2109 - val_categorical_accuracy: 0.9337\n",
      "Epoch 7/35\n",
      "1875/1875 [==============================] - 2s 904us/step - loss: 0.3881 - categorical_accuracy: 0.8852 - val_loss: 0.1911 - val_categorical_accuracy: 0.9420\n",
      "Epoch 8/35\n",
      "1875/1875 [==============================] - 2s 912us/step - loss: 0.3611 - categorical_accuracy: 0.8936 - val_loss: 0.1844 - val_categorical_accuracy: 0.9410\n",
      "Epoch 9/35\n",
      "1875/1875 [==============================] - 2s 928us/step - loss: 0.3358 - categorical_accuracy: 0.9019 - val_loss: 0.1604 - val_categorical_accuracy: 0.9513\n",
      "Epoch 10/35\n",
      "1875/1875 [==============================] - 2s 961us/step - loss: 0.3149 - categorical_accuracy: 0.9083 - val_loss: 0.1506 - val_categorical_accuracy: 0.9531\n",
      "Epoch 11/35\n",
      "1875/1875 [==============================] - 2s 922us/step - loss: 0.2944 - categorical_accuracy: 0.9127 - val_loss: 0.1416 - val_categorical_accuracy: 0.9566\n",
      "Epoch 12/35\n",
      "1875/1875 [==============================] - 2s 932us/step - loss: 0.2834 - categorical_accuracy: 0.9166 - val_loss: 0.1366 - val_categorical_accuracy: 0.9577\n",
      "Epoch 13/35\n",
      "1875/1875 [==============================] - 2s 996us/step - loss: 0.2694 - categorical_accuracy: 0.9214 - val_loss: 0.1319 - val_categorical_accuracy: 0.9593\n",
      "Epoch 14/35\n",
      "1875/1875 [==============================] - 2s 979us/step - loss: 0.2603 - categorical_accuracy: 0.9242 - val_loss: 0.1257 - val_categorical_accuracy: 0.9615\n",
      "Epoch 15/35\n",
      "1875/1875 [==============================] - 2s 981us/step - loss: 0.2511 - categorical_accuracy: 0.9260 - val_loss: 0.1196 - val_categorical_accuracy: 0.9621\n",
      "Epoch 16/35\n",
      "1875/1875 [==============================] - 2s 919us/step - loss: 0.2431 - categorical_accuracy: 0.9285 - val_loss: 0.1177 - val_categorical_accuracy: 0.9635\n",
      "Epoch 17/35\n",
      "1875/1875 [==============================] - 2s 924us/step - loss: 0.2309 - categorical_accuracy: 0.9325 - val_loss: 0.1153 - val_categorical_accuracy: 0.9652\n",
      "Epoch 18/35\n",
      "1875/1875 [==============================] - 2s 945us/step - loss: 0.2251 - categorical_accuracy: 0.9347 - val_loss: 0.1111 - val_categorical_accuracy: 0.9660\n",
      "Epoch 19/35\n",
      "1875/1875 [==============================] - 2s 1ms/step - loss: 0.2219 - categorical_accuracy: 0.9350 - val_loss: 0.1100 - val_categorical_accuracy: 0.9672\n",
      "Epoch 20/35\n",
      "1875/1875 [==============================] - 2s 970us/step - loss: 0.2129 - categorical_accuracy: 0.9379 - val_loss: 0.1085 - val_categorical_accuracy: 0.9683\n",
      "Epoch 21/35\n",
      "1875/1875 [==============================] - 2s 951us/step - loss: 0.2081 - categorical_accuracy: 0.9397 - val_loss: 0.1140 - val_categorical_accuracy: 0.9661\n",
      "Epoch 22/35\n",
      "1875/1875 [==============================] - 2s 943us/step - loss: 0.2066 - categorical_accuracy: 0.9397 - val_loss: 0.1056 - val_categorical_accuracy: 0.9683\n",
      "Epoch 23/35\n",
      "1875/1875 [==============================] - 2s 1ms/step - loss: 0.2031 - categorical_accuracy: 0.9409 - val_loss: 0.1179 - val_categorical_accuracy: 0.9666\n",
      "Epoch 24/35\n",
      "1875/1875 [==============================] - 2s 982us/step - loss: 0.2005 - categorical_accuracy: 0.9410 - val_loss: 0.0993 - val_categorical_accuracy: 0.9695\n",
      "Epoch 25/35\n",
      "1875/1875 [==============================] - 2s 1ms/step - loss: 0.1984 - categorical_accuracy: 0.9415 - val_loss: 0.1021 - val_categorical_accuracy: 0.9697\n",
      "Epoch 26/35\n",
      "1875/1875 [==============================] - 2s 1ms/step - loss: 0.1944 - categorical_accuracy: 0.9427 - val_loss: 0.1055 - val_categorical_accuracy: 0.9682\n",
      "Epoch 27/35\n",
      "1875/1875 [==============================] - 2s 1ms/step - loss: 0.1906 - categorical_accuracy: 0.9438 - val_loss: 0.0976 - val_categorical_accuracy: 0.9724\n",
      "Epoch 28/35\n",
      "1875/1875 [==============================] - 2s 962us/step - loss: 0.1821 - categorical_accuracy: 0.9477 - val_loss: 0.1003 - val_categorical_accuracy: 0.9715\n",
      "Epoch 29/35\n",
      "1875/1875 [==============================] - 2s 1ms/step - loss: 0.1788 - categorical_accuracy: 0.9478 - val_loss: 0.0997 - val_categorical_accuracy: 0.9709\n",
      "Epoch 30/35\n",
      "1875/1875 [==============================] - 2s 909us/step - loss: 0.1757 - categorical_accuracy: 0.9483 - val_loss: 0.0900 - val_categorical_accuracy: 0.9736\n",
      "Epoch 31/35\n",
      "1875/1875 [==============================] - 2s 1ms/step - loss: 0.1716 - categorical_accuracy: 0.9506 - val_loss: 0.0872 - val_categorical_accuracy: 0.9757\n",
      "Epoch 32/35\n",
      "1875/1875 [==============================] - 2s 957us/step - loss: 0.1694 - categorical_accuracy: 0.9507 - val_loss: 0.0897 - val_categorical_accuracy: 0.9738\n",
      "Epoch 33/35\n",
      "1875/1875 [==============================] - 2s 1ms/step - loss: 0.1668 - categorical_accuracy: 0.9525 - val_loss: 0.0882 - val_categorical_accuracy: 0.9742\n",
      "Epoch 34/35\n",
      "1875/1875 [==============================] - 2s 958us/step - loss: 0.1653 - categorical_accuracy: 0.9514 - val_loss: 0.0897 - val_categorical_accuracy: 0.9744\n",
      "Epoch 35/35\n",
      "1875/1875 [==============================] - 2s 933us/step - loss: 0.1607 - categorical_accuracy: 0.9524 - val_loss: 0.0908 - val_categorical_accuracy: 0.9731\n"
     ]
    }
   ]
  },
  {
   "cell_type": "code",
   "source": [
    "plt.plot(history.history['categorical_accuracy'])\n",
    "plt.plot(history.history['val_categorical_accuracy'])\n",
    "plt.title('model accuracy')\n",
    "plt.ylabel('accuracy')\n",
    "plt.xlabel('epoch')\n",
    "plt.legend(['train', 'val'], loc='upper left')\n",
    "plt.show()\n",
    "\n",
    "plt.plot(history.history['loss'][1:])\n",
    "plt.plot(history.history['val_loss'])\n",
    "plt.title('model loss')\n",
    "plt.ylabel('loss')\n",
    "plt.xlabel('epoch')\n",
    "plt.legend(['train', 'val'], loc='upper left')\n",
    "plt.show()"
   ],
   "metadata": {
    "colab": {
     "base_uri": "https://localhost:8080/",
     "height": 927
    },
    "id": "_Q4cjXkxevGN",
    "outputId": "67d8e014-87c6-4658-c53b-73feb5f8fe18",
    "ExecuteTime": {
     "end_time": "2024-03-03T01:02:28.024685Z",
     "start_time": "2024-03-03T01:02:27.888855Z"
    }
   },
   "execution_count": 357,
   "outputs": [
    {
     "data": {
      "text/plain": "<Figure size 640x480 with 1 Axes>",
      "image/png": "[encoded data removed]"
     },
     "metadata": {},
     "output_type": "display_data"
    },
    {
     "data": {
      "text/plain": "<Figure size 640x480 with 1 Axes>",
      "image/png": "[encoded data removed]"
     },
     "metadata": {},
     "output_type": "display_data"
    }
   ]
  },
  {
   "cell_type": "code",
   "source": [
    "predictions = model.predict(test_images[:5])\n",
    "\n",
    "print(predictions.shape)\n",
    "print(predictions)\n",
    "\n",
    "# Print our model's predictions.\n",
    "print(\"Predictions\")\n",
    "print(np.argmax(predictions, axis=1))  # [7, 2, 1, 0, 4]\n",
    "\n",
    "print(\"Data\")\n",
    "# Check our predictions\n",
    "print(test_labels[:5])  # [7, 2, 1, 0, 4]\n"
   ],
   "metadata": {
    "colab": {
     "base_uri": "https://localhost:8080/"
    },
    "id": "g6wNiQVNey0E",
    "outputId": "bb39dfb8-4d84-40c1-be7c-cc98ad2ed63b",
    "ExecuteTime": {
     "end_time": "2024-03-03T01:02:28.103488Z",
     "start_time": "2024-03-03T01:02:28.026125Z"
    }
   },
   "execution_count": 358,
   "outputs": [
    {
     "name": "stdout",
     "output_type": "stream",
     "text": [
      "1/1 [==============================] - 0s 54ms/step\n",
      "(5, 10)\n",
      "[[2.89701802e-06 2.06324949e-05 1.21693243e-04 2.78536550e-04\n",
      "  8.77330967e-06 3.02806366e-05 1.11019153e-06 9.99370277e-01\n",
      "  1.19923552e-05 1.53845962e-04]\n",
      " [2.22830931e-05 6.30903756e-04 9.98486638e-01 6.00411149e-04\n",
      "  3.33783373e-06 3.64305306e-05 1.68294267e-04 8.69434461e-06\n",
      "  4.11168112e-05 1.85379668e-06]\n",
      " [1.05529784e-06 9.99758542e-01 2.24129253e-05 1.50251135e-05\n",
      "  1.15448020e-05 2.88364590e-05 2.23130519e-05 2.13706007e-05\n",
      "  1.10727997e-04 8.09733683e-06]\n",
      " [9.99485135e-01 1.13870556e-06 5.17036242e-05 2.66230454e-05\n",
      "  2.43806844e-05 1.33321417e-04 1.70555504e-04 3.62787468e-05\n",
      "  1.86198722e-05 5.21330003e-05]\n",
      " [5.91074786e-06 2.59824128e-06 3.22681553e-05 3.34756669e-06\n",
      "  9.98810530e-01 1.52606663e-05 4.42437340e-05 4.02083024e-05\n",
      "  9.40701739e-06 1.03628973e-03]]\n",
      "Predictions\n",
      "[7 2 1 0 4]\n",
      "Data\n",
      "[7 2 1 0 4]\n"
     ]
    }
   ]
  },
  {
   "cell_type": "code",
   "execution_count": 359,
   "outputs": [],
   "source": [
    "model.save('model.keras')"
   ],
   "metadata": {
    "collapsed": false,
    "ExecuteTime": {
     "end_time": "2024-03-03T01:02:28.128268Z",
     "start_time": "2024-03-03T01:02:28.103746Z"
    }
   }
  }
 ]
}
