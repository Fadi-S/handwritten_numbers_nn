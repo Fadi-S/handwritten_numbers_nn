{
 "nbformat": 4,
 "nbformat_minor": 0,
 "metadata": {
  "colab": {
   "provenance": []
  },
  "kernelspec": {
   "name": "python3",
   "language": "python",
   "display_name": "Python 3 (ipykernel)"
  },
  "language_info": {
   "name": "python"
  }
 },
 "cells": [
  {
   "cell_type": "code",
   "execution_count": 1,
   "metadata": {
    "id": "QWdRpV4fc_R6",
    "ExecuteTime": {
     "end_time": "2024-03-05T00:58:32.557469Z",
     "start_time": "2024-03-05T00:58:28.748977Z"
    }
   },
   "outputs": [],
   "source": [
    "import numpy as np\n",
    "from tensorflow.keras.models import Sequential\n",
    "from tensorflow.keras.layers import Dense, Flatten, Dropout, BatchNormalization\n",
    "from tensorflow.keras.utils import to_categorical\n",
    "import matplotlib.pyplot as plt\n",
    "from tensorflow.keras.initializers import RandomNormal\n",
    "from tensorflow.keras.losses import CategoricalCrossentropy\n",
    "from tensorflow.keras.metrics import CategoricalAccuracy\n"
   ]
  },
  {
   "cell_type": "code",
   "source": [
    "!pip install mnist\n",
    "import mnist"
   ],
   "metadata": {
    "colab": {
     "base_uri": "https://localhost:8080/"
    },
    "id": "14M7T9Spdset",
    "outputId": "5aace69c-6156-44ba-8d1a-e00b41aecdc1",
    "ExecuteTime": {
     "end_time": "2024-03-05T00:58:34.053178Z",
     "start_time": "2024-03-05T00:58:32.554857Z"
    }
   },
   "execution_count": 2,
   "outputs": [
    {
     "name": "stdout",
     "output_type": "stream",
     "text": [
      "Requirement already satisfied: mnist in ./venv/lib/python3.11/site-packages (0.2.2)\r\n",
      "Requirement already satisfied: numpy in ./venv/lib/python3.11/site-packages (from mnist) (1.26.4)\r\n",
      "\r\n",
      "\u001B[1m[\u001B[0m\u001B[34;49mnotice\u001B[0m\u001B[1;39;49m]\u001B[0m\u001B[39;49m A new release of pip is available: \u001B[0m\u001B[31;49m23.2.1\u001B[0m\u001B[39;49m -> \u001B[0m\u001B[32;49m24.0\u001B[0m\r\n",
      "\u001B[1m[\u001B[0m\u001B[34;49mnotice\u001B[0m\u001B[1;39;49m]\u001B[0m\u001B[39;49m To update, run: \u001B[0m\u001B[32;49mpip install --upgrade pip\u001B[0m\r\n"
     ]
    }
   ]
  },
  {
   "cell_type": "code",
   "source": [
    "train_images = mnist.train_images()\n",
    "train_labels = mnist.train_labels()\n",
    "test_images = mnist.test_images()\n",
    "test_labels = mnist.test_labels()"
   ],
   "metadata": {
    "id": "--DjxVNvd3CJ",
    "ExecuteTime": {
     "end_time": "2024-03-05T00:58:34.206859Z",
     "start_time": "2024-03-05T00:58:34.053406Z"
    }
   },
   "execution_count": 3,
   "outputs": []
  },
  {
   "cell_type": "code",
   "source": [
    "# Normalize the images.\n",
    "train_images = (train_images / 255) - 0.5\n",
    "test_images = (test_images / 255) - 0.5"
   ],
   "metadata": {
    "id": "QFs6ugTfd6UR",
    "ExecuteTime": {
     "end_time": "2024-03-05T00:58:34.529889Z",
     "start_time": "2024-03-05T00:58:34.207504Z"
    }
   },
   "execution_count": 4,
   "outputs": []
  },
  {
   "cell_type": "code",
   "source": [
    "train_images.shape"
   ],
   "metadata": {
    "colab": {
     "base_uri": "https://localhost:8080/"
    },
    "id": "yR0Emj8Kd-im",
    "outputId": "79782fb5-d398-4cd1-ec7c-060ee2dababc",
    "ExecuteTime": {
     "end_time": "2024-03-05T00:58:34.598557Z",
     "start_time": "2024-03-05T00:58:34.534152Z"
    }
   },
   "execution_count": 5,
   "outputs": [
    {
     "data": {
      "text/plain": "(60000, 28, 28)"
     },
     "execution_count": 5,
     "metadata": {},
     "output_type": "execute_result"
    }
   ]
  },
  {
   "cell_type": "code",
   "source": [
    "# Reshape the images.\n",
    "train_images = np.expand_dims(train_images, axis=3)\n",
    "test_images = np.expand_dims(test_images, axis=3)"
   ],
   "metadata": {
    "id": "7WP94FHZeCSr",
    "ExecuteTime": {
     "end_time": "2024-03-05T00:58:34.599089Z",
     "start_time": "2024-03-05T00:58:34.540083Z"
    }
   },
   "execution_count": 6,
   "outputs": []
  },
  {
   "cell_type": "code",
   "execution_count": 7,
   "outputs": [
    {
     "data": {
      "text/plain": "(60000, 28, 28, 1)"
     },
     "execution_count": 7,
     "metadata": {},
     "output_type": "execute_result"
    }
   ],
   "source": [
    "train_images.shape"
   ],
   "metadata": {
    "collapsed": false,
    "ExecuteTime": {
     "end_time": "2024-03-05T00:58:34.599801Z",
     "start_time": "2024-03-05T00:58:34.548311Z"
    }
   }
  },
  {
   "cell_type": "code",
   "source": [
    "learning_rate = 0.01\n",
    "n_epochs = 60\n",
    "initializer = RandomNormal(mean=0., stddev=1.)"
   ],
   "metadata": {
    "id": "mv5qMKBKeRPv",
    "ExecuteTime": {
     "end_time": "2024-03-05T00:58:34.620985Z",
     "start_time": "2024-03-05T00:58:34.555600Z"
    }
   },
   "execution_count": 8,
   "outputs": []
  },
  {
   "cell_type": "code",
   "source": [
    "model = Sequential()\n",
    "model.add(Flatten(input_shape=(28, 28)))\n",
    "\n",
    "model.add(Dense(128, activation='relu', kernel_initializer=initializer))\n",
    "model.add(BatchNormalization())\n",
    "model.add(Dropout(0.2))\n",
    "\n",
    "model.add(Dense(128, activation='relu', kernel_initializer=initializer))\n",
    "model.add(BatchNormalization())\n",
    "model.add(Dropout(0.2))\n",
    "\n",
    "model.add(Dense(64, activation='relu', kernel_initializer=initializer))\n",
    "model.add(BatchNormalization())\n",
    "model.add(Dropout(0.3))\n",
    "\n",
    "model.add(Dense(10, activation='softmax', kernel_initializer=initializer))"
   ],
   "metadata": {
    "colab": {
     "base_uri": "https://localhost:8080/"
    },
    "id": "0T2ceBnUee1H",
    "outputId": "bec81dce-eff1-46bc-fa34-e987ec2d0327",
    "ExecuteTime": {
     "end_time": "2024-03-05T00:58:35.021222Z",
     "start_time": "2024-03-05T00:58:34.561852Z"
    }
   },
   "execution_count": 9,
   "outputs": [
    {
     "name": "stderr",
     "output_type": "stream",
     "text": [
      "/Users/fadi/Documents/Fadi/Koleya/Term 8/Deep Learning/Assignments/Assignment 2/venv/lib/python3.11/site-packages/keras/src/initializers/initializers.py:120: UserWarning: The initializer RandomNormal is unseeded and being called multiple times, which will return identical values each time (even if the initializer is unseeded). Please update your code to provide a seed to the initializer, or avoid using the same initializer instance more than once.\n",
      "  warnings.warn(\n"
     ]
    }
   ]
  },
  {
   "cell_type": "code",
   "source": [
    "from tensorflow.keras.callbacks import EarlyStopping\n",
    "\n",
    "early_stopping = EarlyStopping(\n",
    "    monitor='val_loss', patience=10, restore_best_weights=True\n",
    ")\n",
    "\n",
    "model.compile(\n",
    "    optimizer='adam',\n",
    "    loss=CategoricalCrossentropy(),\n",
    "    metrics=[CategoricalAccuracy()],\n",
    ")\n",
    "\n",
    "history = model.fit(\n",
    "    train_images,\n",
    "    to_categorical(train_labels),\n",
    "    epochs=n_epochs,\n",
    "    validation_data=(test_images, to_categorical(test_labels)),\n",
    "    callbacks=[early_stopping]\n",
    ")"
   ],
   "metadata": {
    "colab": {
     "base_uri": "https://localhost:8080/"
    },
    "id": "fDsQI6Bxeo3U",
    "outputId": "b5056a49-bb6c-4a1a-fe5c-539073d54fae",
    "ExecuteTime": {
     "end_time": "2024-03-05T01:02:11.868330Z",
     "start_time": "2024-03-05T00:58:35.017928Z"
    }
   },
   "execution_count": 10,
   "outputs": [
    {
     "name": "stdout",
     "output_type": "stream",
     "text": [
      "Epoch 1/100\n",
      "1875/1875 [==============================] - 4s 2ms/step - loss: 3.4959 - categorical_accuracy: 0.5314 - val_loss: 0.5297 - val_categorical_accuracy: 0.8509\n",
      "Epoch 2/100\n",
      "1875/1875 [==============================] - 4s 2ms/step - loss: 0.8946 - categorical_accuracy: 0.7401 - val_loss: 0.3517 - val_categorical_accuracy: 0.8981\n",
      "Epoch 3/100\n",
      "1875/1875 [==============================] - 3s 2ms/step - loss: 0.5953 - categorical_accuracy: 0.8129 - val_loss: 0.2812 - val_categorical_accuracy: 0.9185\n",
      "Epoch 4/100\n",
      "1875/1875 [==============================] - 3s 1ms/step - loss: 0.4771 - categorical_accuracy: 0.8551 - val_loss: 0.2325 - val_categorical_accuracy: 0.9301\n",
      "Epoch 5/100\n",
      "1875/1875 [==============================] - 3s 2ms/step - loss: 0.4043 - categorical_accuracy: 0.8758 - val_loss: 0.2003 - val_categorical_accuracy: 0.9380\n",
      "Epoch 6/100\n",
      "1875/1875 [==============================] - 3s 2ms/step - loss: 0.3517 - categorical_accuracy: 0.8921 - val_loss: 0.1721 - val_categorical_accuracy: 0.9472\n",
      "Epoch 7/100\n",
      "1875/1875 [==============================] - 3s 1ms/step - loss: 0.3170 - categorical_accuracy: 0.9035 - val_loss: 0.1631 - val_categorical_accuracy: 0.9488\n",
      "Epoch 8/100\n",
      "1875/1875 [==============================] - 3s 2ms/step - loss: 0.2910 - categorical_accuracy: 0.9116 - val_loss: 0.1425 - val_categorical_accuracy: 0.9538\n",
      "Epoch 9/100\n",
      "1875/1875 [==============================] - 3s 1ms/step - loss: 0.2682 - categorical_accuracy: 0.9192 - val_loss: 0.1365 - val_categorical_accuracy: 0.9564\n",
      "Epoch 10/100\n",
      "1875/1875 [==============================] - 3s 2ms/step - loss: 0.2496 - categorical_accuracy: 0.9233 - val_loss: 0.1256 - val_categorical_accuracy: 0.9599\n",
      "Epoch 11/100\n",
      "1875/1875 [==============================] - 3s 1ms/step - loss: 0.2414 - categorical_accuracy: 0.9267 - val_loss: 0.1187 - val_categorical_accuracy: 0.9633\n",
      "Epoch 12/100\n",
      "1875/1875 [==============================] - 3s 1ms/step - loss: 0.2255 - categorical_accuracy: 0.9324 - val_loss: 0.1172 - val_categorical_accuracy: 0.9623\n",
      "Epoch 13/100\n",
      "1875/1875 [==============================] - 3s 1ms/step - loss: 0.2143 - categorical_accuracy: 0.9340 - val_loss: 0.1081 - val_categorical_accuracy: 0.9656\n",
      "Epoch 14/100\n",
      "1875/1875 [==============================] - 3s 1ms/step - loss: 0.2034 - categorical_accuracy: 0.9372 - val_loss: 0.1062 - val_categorical_accuracy: 0.9670\n",
      "Epoch 15/100\n",
      "1875/1875 [==============================] - 3s 1ms/step - loss: 0.2007 - categorical_accuracy: 0.9390 - val_loss: 0.1060 - val_categorical_accuracy: 0.9672\n",
      "Epoch 16/100\n",
      "1875/1875 [==============================] - 3s 1ms/step - loss: 0.1963 - categorical_accuracy: 0.9409 - val_loss: 0.0996 - val_categorical_accuracy: 0.9695\n",
      "Epoch 17/100\n",
      "1875/1875 [==============================] - 3s 1ms/step - loss: 0.1879 - categorical_accuracy: 0.9423 - val_loss: 0.0946 - val_categorical_accuracy: 0.9709\n",
      "Epoch 18/100\n",
      "1875/1875 [==============================] - 3s 1ms/step - loss: 0.1799 - categorical_accuracy: 0.9451 - val_loss: 0.0931 - val_categorical_accuracy: 0.9723\n",
      "Epoch 19/100\n",
      "1875/1875 [==============================] - 3s 1ms/step - loss: 0.1713 - categorical_accuracy: 0.9475 - val_loss: 0.0930 - val_categorical_accuracy: 0.9705\n",
      "Epoch 20/100\n",
      "1875/1875 [==============================] - 3s 1ms/step - loss: 0.1686 - categorical_accuracy: 0.9479 - val_loss: 0.0916 - val_categorical_accuracy: 0.9715\n",
      "Epoch 21/100\n",
      "1875/1875 [==============================] - 3s 1ms/step - loss: 0.1648 - categorical_accuracy: 0.9502 - val_loss: 0.0914 - val_categorical_accuracy: 0.9702\n",
      "Epoch 22/100\n",
      "1875/1875 [==============================] - 3s 1ms/step - loss: 0.1608 - categorical_accuracy: 0.9509 - val_loss: 0.0880 - val_categorical_accuracy: 0.9733\n",
      "Epoch 23/100\n",
      "1875/1875 [==============================] - 3s 2ms/step - loss: 0.1581 - categorical_accuracy: 0.9518 - val_loss: 0.0845 - val_categorical_accuracy: 0.9740\n",
      "Epoch 24/100\n",
      "1875/1875 [==============================] - 3s 2ms/step - loss: 0.1527 - categorical_accuracy: 0.9531 - val_loss: 0.0830 - val_categorical_accuracy: 0.9737\n",
      "Epoch 25/100\n",
      "1875/1875 [==============================] - 3s 1ms/step - loss: 0.1482 - categorical_accuracy: 0.9548 - val_loss: 0.0829 - val_categorical_accuracy: 0.9745\n",
      "Epoch 26/100\n",
      "1875/1875 [==============================] - 3s 1ms/step - loss: 0.1434 - categorical_accuracy: 0.9564 - val_loss: 0.0868 - val_categorical_accuracy: 0.9731\n",
      "Epoch 27/100\n",
      "1875/1875 [==============================] - 3s 1ms/step - loss: 0.1440 - categorical_accuracy: 0.9558 - val_loss: 0.0778 - val_categorical_accuracy: 0.9771\n",
      "Epoch 28/100\n",
      "1875/1875 [==============================] - 3s 2ms/step - loss: 0.1427 - categorical_accuracy: 0.9565 - val_loss: 0.0777 - val_categorical_accuracy: 0.9747\n",
      "Epoch 29/100\n",
      "1875/1875 [==============================] - 2s 1ms/step - loss: 0.1387 - categorical_accuracy: 0.9582 - val_loss: 0.0776 - val_categorical_accuracy: 0.9754\n",
      "Epoch 30/100\n",
      "1875/1875 [==============================] - 3s 2ms/step - loss: 0.1367 - categorical_accuracy: 0.9585 - val_loss: 0.0753 - val_categorical_accuracy: 0.9752\n",
      "Epoch 31/100\n",
      "1875/1875 [==============================] - 3s 1ms/step - loss: 0.1332 - categorical_accuracy: 0.9592 - val_loss: 0.0765 - val_categorical_accuracy: 0.9757\n",
      "Epoch 32/100\n",
      "1875/1875 [==============================] - 3s 2ms/step - loss: 0.1274 - categorical_accuracy: 0.9604 - val_loss: 0.0755 - val_categorical_accuracy: 0.9761\n",
      "Epoch 33/100\n",
      "1875/1875 [==============================] - 3s 1ms/step - loss: 0.1290 - categorical_accuracy: 0.9602 - val_loss: 0.0789 - val_categorical_accuracy: 0.9764\n",
      "Epoch 34/100\n",
      "1875/1875 [==============================] - 3s 1ms/step - loss: 0.1264 - categorical_accuracy: 0.9606 - val_loss: 0.0720 - val_categorical_accuracy: 0.9772\n",
      "Epoch 35/100\n",
      "1875/1875 [==============================] - 3s 1ms/step - loss: 0.1281 - categorical_accuracy: 0.9610 - val_loss: 0.0730 - val_categorical_accuracy: 0.9763\n",
      "Epoch 36/100\n",
      "1875/1875 [==============================] - 3s 1ms/step - loss: 0.1231 - categorical_accuracy: 0.9613 - val_loss: 0.0725 - val_categorical_accuracy: 0.9762\n",
      "Epoch 37/100\n",
      "1875/1875 [==============================] - 3s 2ms/step - loss: 0.1206 - categorical_accuracy: 0.9622 - val_loss: 0.0735 - val_categorical_accuracy: 0.9758\n",
      "Epoch 38/100\n",
      "1875/1875 [==============================] - 3s 1ms/step - loss: 0.1158 - categorical_accuracy: 0.9643 - val_loss: 0.0796 - val_categorical_accuracy: 0.9747\n",
      "Epoch 39/100\n",
      "1875/1875 [==============================] - 3s 1ms/step - loss: 0.1158 - categorical_accuracy: 0.9647 - val_loss: 0.0691 - val_categorical_accuracy: 0.9780\n",
      "Epoch 40/100\n",
      "1875/1875 [==============================] - 3s 2ms/step - loss: 0.1132 - categorical_accuracy: 0.9653 - val_loss: 0.0749 - val_categorical_accuracy: 0.9764\n",
      "Epoch 41/100\n",
      "1875/1875 [==============================] - 3s 2ms/step - loss: 0.1099 - categorical_accuracy: 0.9661 - val_loss: 0.0680 - val_categorical_accuracy: 0.9782\n",
      "Epoch 42/100\n",
      "1875/1875 [==============================] - 3s 1ms/step - loss: 0.1101 - categorical_accuracy: 0.9653 - val_loss: 0.0699 - val_categorical_accuracy: 0.9771\n",
      "Epoch 43/100\n",
      "1875/1875 [==============================] - 3s 1ms/step - loss: 0.1136 - categorical_accuracy: 0.9651 - val_loss: 0.0681 - val_categorical_accuracy: 0.9783\n",
      "Epoch 44/100\n",
      "1875/1875 [==============================] - 3s 2ms/step - loss: 0.1080 - categorical_accuracy: 0.9665 - val_loss: 0.0661 - val_categorical_accuracy: 0.9794\n",
      "Epoch 45/100\n",
      "1875/1875 [==============================] - 3s 1ms/step - loss: 0.1080 - categorical_accuracy: 0.9666 - val_loss: 0.0684 - val_categorical_accuracy: 0.9784\n",
      "Epoch 46/100\n",
      "1875/1875 [==============================] - 3s 2ms/step - loss: 0.1070 - categorical_accuracy: 0.9670 - val_loss: 0.0667 - val_categorical_accuracy: 0.9795\n",
      "Epoch 47/100\n",
      "1875/1875 [==============================] - 3s 1ms/step - loss: 0.1054 - categorical_accuracy: 0.9670 - val_loss: 0.0665 - val_categorical_accuracy: 0.9791\n",
      "Epoch 48/100\n",
      "1875/1875 [==============================] - 3s 1ms/step - loss: 0.0996 - categorical_accuracy: 0.9687 - val_loss: 0.0669 - val_categorical_accuracy: 0.9789\n",
      "Epoch 49/100\n",
      "1875/1875 [==============================] - 3s 1ms/step - loss: 0.1010 - categorical_accuracy: 0.9684 - val_loss: 0.0655 - val_categorical_accuracy: 0.9788\n",
      "Epoch 50/100\n",
      "1875/1875 [==============================] - 3s 2ms/step - loss: 0.1001 - categorical_accuracy: 0.9686 - val_loss: 0.0636 - val_categorical_accuracy: 0.9797\n",
      "Epoch 51/100\n",
      "1875/1875 [==============================] - 3s 1ms/step - loss: 0.1021 - categorical_accuracy: 0.9675 - val_loss: 0.0695 - val_categorical_accuracy: 0.9782\n",
      "Epoch 52/100\n",
      "1875/1875 [==============================] - 3s 1ms/step - loss: 0.0980 - categorical_accuracy: 0.9698 - val_loss: 0.0662 - val_categorical_accuracy: 0.9792\n",
      "Epoch 53/100\n",
      "1875/1875 [==============================] - 3s 1ms/step - loss: 0.0984 - categorical_accuracy: 0.9693 - val_loss: 0.0660 - val_categorical_accuracy: 0.9805\n",
      "Epoch 54/100\n",
      "1875/1875 [==============================] - 3s 1ms/step - loss: 0.1003 - categorical_accuracy: 0.9685 - val_loss: 0.0662 - val_categorical_accuracy: 0.9792\n",
      "Epoch 55/100\n",
      "1875/1875 [==============================] - 3s 2ms/step - loss: 0.0970 - categorical_accuracy: 0.9695 - val_loss: 0.0638 - val_categorical_accuracy: 0.9790\n",
      "Epoch 56/100\n",
      "1875/1875 [==============================] - 3s 1ms/step - loss: 0.0977 - categorical_accuracy: 0.9694 - val_loss: 0.0660 - val_categorical_accuracy: 0.9793\n",
      "Epoch 57/100\n",
      "1875/1875 [==============================] - 3s 2ms/step - loss: 0.0954 - categorical_accuracy: 0.9700 - val_loss: 0.0659 - val_categorical_accuracy: 0.9782\n",
      "Epoch 58/100\n",
      "1875/1875 [==============================] - 3s 1ms/step - loss: 0.0924 - categorical_accuracy: 0.9707 - val_loss: 0.0644 - val_categorical_accuracy: 0.9803\n",
      "Epoch 59/100\n",
      "1875/1875 [==============================] - 3s 2ms/step - loss: 0.0988 - categorical_accuracy: 0.9689 - val_loss: 0.0651 - val_categorical_accuracy: 0.9801\n",
      "Epoch 60/100\n",
      "1875/1875 [==============================] - 3s 1ms/step - loss: 0.0932 - categorical_accuracy: 0.9707 - val_loss: 0.0629 - val_categorical_accuracy: 0.9801\n",
      "Epoch 61/100\n",
      "1875/1875 [==============================] - 3s 1ms/step - loss: 0.0941 - categorical_accuracy: 0.9706 - val_loss: 0.0668 - val_categorical_accuracy: 0.9794\n",
      "Epoch 62/100\n",
      "1875/1875 [==============================] - 3s 1ms/step - loss: 0.0914 - categorical_accuracy: 0.9712 - val_loss: 0.0641 - val_categorical_accuracy: 0.9808\n",
      "Epoch 63/100\n",
      "1875/1875 [==============================] - 3s 2ms/step - loss: 0.0946 - categorical_accuracy: 0.9708 - val_loss: 0.0683 - val_categorical_accuracy: 0.9785\n",
      "Epoch 64/100\n",
      "1875/1875 [==============================] - 3s 2ms/step - loss: 0.0885 - categorical_accuracy: 0.9724 - val_loss: 0.0657 - val_categorical_accuracy: 0.9787\n",
      "Epoch 65/100\n",
      "1875/1875 [==============================] - 3s 1ms/step - loss: 0.0912 - categorical_accuracy: 0.9710 - val_loss: 0.0625 - val_categorical_accuracy: 0.9814\n",
      "Epoch 66/100\n",
      "1875/1875 [==============================] - 3s 1ms/step - loss: 0.0895 - categorical_accuracy: 0.9721 - val_loss: 0.0612 - val_categorical_accuracy: 0.9801\n",
      "Epoch 67/100\n",
      "1875/1875 [==============================] - 3s 1ms/step - loss: 0.0887 - categorical_accuracy: 0.9716 - val_loss: 0.0636 - val_categorical_accuracy: 0.9802\n",
      "Epoch 68/100\n",
      "1875/1875 [==============================] - 3s 1ms/step - loss: 0.0877 - categorical_accuracy: 0.9724 - val_loss: 0.0581 - val_categorical_accuracy: 0.9813\n",
      "Epoch 69/100\n",
      "1875/1875 [==============================] - 3s 2ms/step - loss: 0.0846 - categorical_accuracy: 0.9725 - val_loss: 0.0609 - val_categorical_accuracy: 0.9812\n",
      "Epoch 70/100\n",
      "1875/1875 [==============================] - 3s 1ms/step - loss: 0.0868 - categorical_accuracy: 0.9733 - val_loss: 0.0618 - val_categorical_accuracy: 0.9804\n",
      "Epoch 71/100\n",
      "1875/1875 [==============================] - 3s 1ms/step - loss: 0.0846 - categorical_accuracy: 0.9730 - val_loss: 0.0640 - val_categorical_accuracy: 0.9799\n",
      "Epoch 72/100\n",
      "1875/1875 [==============================] - 3s 1ms/step - loss: 0.0838 - categorical_accuracy: 0.9733 - val_loss: 0.0632 - val_categorical_accuracy: 0.9807\n",
      "Epoch 73/100\n",
      "1875/1875 [==============================] - 3s 2ms/step - loss: 0.0847 - categorical_accuracy: 0.9729 - val_loss: 0.0601 - val_categorical_accuracy: 0.9809\n",
      "Epoch 74/100\n",
      "1875/1875 [==============================] - 3s 1ms/step - loss: 0.0816 - categorical_accuracy: 0.9743 - val_loss: 0.0588 - val_categorical_accuracy: 0.9816\n",
      "Epoch 75/100\n",
      "1875/1875 [==============================] - 3s 2ms/step - loss: 0.0861 - categorical_accuracy: 0.9733 - val_loss: 0.0613 - val_categorical_accuracy: 0.9810\n",
      "Epoch 76/100\n",
      "1875/1875 [==============================] - 3s 1ms/step - loss: 0.0830 - categorical_accuracy: 0.9736 - val_loss: 0.0633 - val_categorical_accuracy: 0.9800\n",
      "Epoch 77/100\n",
      "1875/1875 [==============================] - 3s 1ms/step - loss: 0.0829 - categorical_accuracy: 0.9740 - val_loss: 0.0615 - val_categorical_accuracy: 0.9802\n",
      "Epoch 78/100\n",
      "1875/1875 [==============================] - 3s 2ms/step - loss: 0.0841 - categorical_accuracy: 0.9737 - val_loss: 0.0601 - val_categorical_accuracy: 0.9825\n"
     ]
    }
   ]
  },
  {
   "cell_type": "code",
   "source": [
    "plt.figure(figsize=(12, 6))\n",
    "\n",
    "plt.subplot(1, 2, 1)\n",
    "plt.plot(history.history['categorical_accuracy'])\n",
    "plt.plot(history.history['val_categorical_accuracy'])\n",
    "plt.title('Model Accuracy')\n",
    "plt.ylabel('Accuracy')\n",
    "plt.xlabel('Epoch')\n",
    "plt.legend(['Train', 'Validation'], loc='upper left')\n",
    "\n",
    "# Plotting loss\n",
    "plt.subplot(1, 2, 2)\n",
    "plt.plot(history.history['loss'][1:])\n",
    "plt.plot(history.history['val_loss'])\n",
    "plt.title('Model Loss')\n",
    "plt.ylabel('Loss')\n",
    "plt.xlabel('Epoch')\n",
    "plt.legend(['Train', 'Validation'], loc='upper left')\n",
    "\n",
    "plt.tight_layout()\n",
    "plt.show()"
   ],
   "metadata": {
    "colab": {
     "base_uri": "https://localhost:8080/",
     "height": 927
    },
    "id": "_Q4cjXkxevGN",
    "outputId": "67d8e014-87c6-4658-c53b-73feb5f8fe18",
    "ExecuteTime": {
     "end_time": "2024-03-05T01:02:12.378011Z",
     "start_time": "2024-03-05T01:02:11.871260Z"
    }
   },
   "execution_count": 11,
   "outputs": [
    {
     "data": {
      "text/plain": "<Figure size 1200x600 with 2 Axes>",
      "image/png": "[encoded data removed]"
     },
     "metadata": {},
     "output_type": "display_data"
    }
   ]
  },
  {
   "cell_type": "code",
   "source": [
    "predictions = model.predict(test_images[:5])\n",
    "\n",
    "print(\"Predictions:\", np.argmax(predictions, axis=1), np.max(np.multiply(predictions, 100), axis=1)) # [7, 2, 1, 0, 4]\n",
    "print(\"Actual:     \", test_labels[:5])  # [7, 2, 1, 0, 4]"
   ],
   "metadata": {
    "colab": {
     "base_uri": "https://localhost:8080/"
    },
    "id": "g6wNiQVNey0E",
    "outputId": "bb39dfb8-4d84-40c1-be7c-cc98ad2ed63b",
    "ExecuteTime": {
     "end_time": "2024-03-05T01:02:12.557507Z",
     "start_time": "2024-03-05T01:02:12.375861Z"
    }
   },
   "execution_count": 12,
   "outputs": [
    {
     "name": "stdout",
     "output_type": "stream",
     "text": [
      "1/1 [==============================] - 0s 120ms/step\n",
      "Predictions: [7 2 1 0 4] [99.986244 99.96309  99.99106  99.949036 99.916664]\n",
      "Actual:      [7 2 1 0 4]\n"
     ]
    }
   ]
  },
  {
   "cell_type": "code",
   "execution_count": 13,
   "outputs": [],
   "source": [
    "model.save('model.keras')"
   ],
   "metadata": {
    "collapsed": false,
    "ExecuteTime": {
     "end_time": "2024-03-05T01:02:12.609358Z",
     "start_time": "2024-03-05T01:02:12.533824Z"
    }
   }
  }
 ]
}
