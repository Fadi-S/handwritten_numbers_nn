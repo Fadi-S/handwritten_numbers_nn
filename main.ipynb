{
 "nbformat": 4,
 "nbformat_minor": 0,
 "metadata": {
  "colab": {
   "provenance": []
  },
  "kernelspec": {
   "name": "python3",
   "language": "python",
   "display_name": "Python 3 (ipykernel)"
  },
  "language_info": {
   "name": "python"
  }
 },
 "cells": [
  {
   "cell_type": "code",
   "execution_count": 27,
   "metadata": {
    "id": "QWdRpV4fc_R6",
    "ExecuteTime": {
     "end_time": "2024-03-05T02:15:45.045497Z",
     "start_time": "2024-03-05T02:15:45.042259Z"
    }
   },
   "outputs": [],
   "source": [
    "import numpy as np\n",
    "from tensorflow.keras.models import Sequential\n",
    "from tensorflow.keras.layers import Dense, Flatten, Dropout, BatchNormalization\n",
    "from tensorflow.keras.utils import to_categorical\n",
    "import matplotlib.pyplot as plt\n",
    "from tensorflow.keras.initializers import RandomNormal\n",
    "from tensorflow.keras.losses import CategoricalCrossentropy\n",
    "from tensorflow.keras.metrics import CategoricalAccuracy\n"
   ]
  },
  {
   "cell_type": "code",
   "source": [
    "!pip install mnist\n",
    "import mnist"
   ],
   "metadata": {
    "colab": {
     "base_uri": "https://localhost:8080/"
    },
    "id": "14M7T9Spdset",
    "outputId": "5aace69c-6156-44ba-8d1a-e00b41aecdc1",
    "ExecuteTime": {
     "end_time": "2024-03-05T02:15:46.564705Z",
     "start_time": "2024-03-05T02:15:45.051060Z"
    }
   },
   "execution_count": 28,
   "outputs": [
    {
     "name": "stdout",
     "output_type": "stream",
     "text": [
      "Requirement already satisfied: mnist in ./venv/lib/python3.11/site-packages (0.2.2)\r\n",
      "Requirement already satisfied: numpy in ./venv/lib/python3.11/site-packages (from mnist) (1.26.4)\r\n",
      "\r\n",
      "\u001B[1m[\u001B[0m\u001B[34;49mnotice\u001B[0m\u001B[1;39;49m]\u001B[0m\u001B[39;49m A new release of pip is available: \u001B[0m\u001B[31;49m23.2.1\u001B[0m\u001B[39;49m -> \u001B[0m\u001B[32;49m24.0\u001B[0m\r\n",
      "\u001B[1m[\u001B[0m\u001B[34;49mnotice\u001B[0m\u001B[1;39;49m]\u001B[0m\u001B[39;49m To update, run: \u001B[0m\u001B[32;49mpip install --upgrade pip\u001B[0m\r\n"
     ]
    }
   ]
  },
  {
   "cell_type": "code",
   "source": [
    "train_images = mnist.train_images()\n",
    "train_labels = mnist.train_labels()\n",
    "test_images = mnist.test_images()\n",
    "test_labels = mnist.test_labels()"
   ],
   "metadata": {
    "id": "--DjxVNvd3CJ",
    "ExecuteTime": {
     "end_time": "2024-03-05T02:15:46.727468Z",
     "start_time": "2024-03-05T02:15:46.568927Z"
    }
   },
   "execution_count": 29,
   "outputs": []
  },
  {
   "cell_type": "code",
   "source": [
    "# Normalize the images.\n",
    "train_images = (train_images / 255) - 0.5\n",
    "test_images = (test_images / 255) - 0.5"
   ],
   "metadata": {
    "id": "QFs6ugTfd6UR",
    "ExecuteTime": {
     "end_time": "2024-03-05T02:15:46.898781Z",
     "start_time": "2024-03-05T02:15:46.728662Z"
    }
   },
   "execution_count": 30,
   "outputs": []
  },
  {
   "cell_type": "code",
   "source": [
    "train_images.shape"
   ],
   "metadata": {
    "colab": {
     "base_uri": "https://localhost:8080/"
    },
    "id": "yR0Emj8Kd-im",
    "outputId": "79782fb5-d398-4cd1-ec7c-060ee2dababc",
    "ExecuteTime": {
     "end_time": "2024-03-05T02:15:46.904748Z",
     "start_time": "2024-03-05T02:15:46.901118Z"
    }
   },
   "execution_count": 31,
   "outputs": [
    {
     "data": {
      "text/plain": "(60000, 28, 28)"
     },
     "execution_count": 31,
     "metadata": {},
     "output_type": "execute_result"
    }
   ]
  },
  {
   "cell_type": "code",
   "source": [
    "# Reshape the images.\n",
    "train_images = np.expand_dims(train_images, axis=3)\n",
    "test_images = np.expand_dims(test_images, axis=3)"
   ],
   "metadata": {
    "id": "7WP94FHZeCSr",
    "ExecuteTime": {
     "end_time": "2024-03-05T02:15:46.907754Z",
     "start_time": "2024-03-05T02:15:46.904996Z"
    }
   },
   "execution_count": 32,
   "outputs": []
  },
  {
   "cell_type": "code",
   "execution_count": 33,
   "outputs": [
    {
     "data": {
      "text/plain": "(60000, 28, 28, 1)"
     },
     "execution_count": 33,
     "metadata": {},
     "output_type": "execute_result"
    }
   ],
   "source": [
    "train_images.shape"
   ],
   "metadata": {
    "collapsed": false,
    "ExecuteTime": {
     "end_time": "2024-03-05T02:15:46.910849Z",
     "start_time": "2024-03-05T02:15:46.908246Z"
    }
   }
  },
  {
   "cell_type": "code",
   "source": [
    "learning_rate = 0.01\n",
    "n_epochs = 100\n",
    "initializer = RandomNormal(mean=0., stddev=1.)"
   ],
   "metadata": {
    "id": "mv5qMKBKeRPv",
    "ExecuteTime": {
     "end_time": "2024-03-05T02:15:46.916017Z",
     "start_time": "2024-03-05T02:15:46.912935Z"
    }
   },
   "execution_count": 34,
   "outputs": []
  },
  {
   "cell_type": "code",
   "source": [
    "model = Sequential()\n",
    "model.add(Flatten(input_shape=(28, 28)))\n",
    "\n",
    "model.add(Dense(128, activation='relu', kernel_initializer=initializer))\n",
    "model.add(BatchNormalization())\n",
    "model.add(Dropout(0.2))\n",
    "\n",
    "model.add(Dense(128, activation='relu', kernel_initializer=initializer))\n",
    "model.add(BatchNormalization())\n",
    "model.add(Dropout(0.2))\n",
    "\n",
    "model.add(Dense(64, activation='relu', kernel_initializer=initializer))\n",
    "model.add(BatchNormalization())\n",
    "model.add(Dropout(0.3))\n",
    "\n",
    "model.add(Dense(10, activation='softmax', kernel_initializer=initializer))"
   ],
   "metadata": {
    "colab": {
     "base_uri": "https://localhost:8080/"
    },
    "id": "0T2ceBnUee1H",
    "outputId": "bec81dce-eff1-46bc-fa34-e987ec2d0327",
    "ExecuteTime": {
     "end_time": "2024-03-05T02:15:47.004845Z",
     "start_time": "2024-03-05T02:15:46.933705Z"
    }
   },
   "execution_count": 35,
   "outputs": []
  },
  {
   "cell_type": "code",
   "source": [
    "from tensorflow.keras.callbacks import EarlyStopping\n",
    "\n",
    "early_stopping = EarlyStopping(\n",
    "    monitor='val_loss', patience=10, restore_best_weights=True\n",
    ")\n",
    "\n",
    "model.compile(\n",
    "    optimizer='adam',\n",
    "    loss=CategoricalCrossentropy(),\n",
    "    metrics=[CategoricalAccuracy()],\n",
    ")\n",
    "\n",
    "history = model.fit(\n",
    "    train_images,\n",
    "    to_categorical(train_labels),\n",
    "    epochs=n_epochs,\n",
    "    validation_data=(test_images, to_categorical(test_labels)),\n",
    "    callbacks=[early_stopping]\n",
    ")"
   ],
   "metadata": {
    "colab": {
     "base_uri": "https://localhost:8080/"
    },
    "id": "fDsQI6Bxeo3U",
    "outputId": "b5056a49-bb6c-4a1a-fe5c-539073d54fae",
    "ExecuteTime": {
     "end_time": "2024-03-05T02:17:44.804793Z",
     "start_time": "2024-03-05T02:15:47.009338Z"
    }
   },
   "execution_count": 36,
   "outputs": [
    {
     "name": "stdout",
     "output_type": "stream",
     "text": [
      "Epoch 1/100\n",
      "1875/1875 [==============================] - 3s 1ms/step - loss: 3.3126 - categorical_accuracy: 0.5593 - val_loss: 0.4927 - val_categorical_accuracy: 0.8635\n",
      "Epoch 2/100\n",
      "1875/1875 [==============================] - 2s 1ms/step - loss: 0.8514 - categorical_accuracy: 0.7581 - val_loss: 0.3242 - val_categorical_accuracy: 0.9031\n",
      "Epoch 3/100\n",
      "1875/1875 [==============================] - 2s 1ms/step - loss: 0.5764 - categorical_accuracy: 0.8184 - val_loss: 0.2649 - val_categorical_accuracy: 0.9200\n",
      "Epoch 4/100\n",
      "1875/1875 [==============================] - 2s 1ms/step - loss: 0.4673 - categorical_accuracy: 0.8558 - val_loss: 0.2251 - val_categorical_accuracy: 0.9304\n",
      "Epoch 5/100\n",
      "1875/1875 [==============================] - 2s 1ms/step - loss: 0.3985 - categorical_accuracy: 0.8766 - val_loss: 0.1942 - val_categorical_accuracy: 0.9410\n",
      "Epoch 6/100\n",
      "1875/1875 [==============================] - 2s 1ms/step - loss: 0.3507 - categorical_accuracy: 0.8920 - val_loss: 0.1721 - val_categorical_accuracy: 0.9468\n",
      "Epoch 7/100\n",
      "1875/1875 [==============================] - 2s 1ms/step - loss: 0.3134 - categorical_accuracy: 0.9054 - val_loss: 0.1577 - val_categorical_accuracy: 0.9503\n",
      "Epoch 8/100\n",
      "1875/1875 [==============================] - 2s 1ms/step - loss: 0.2890 - categorical_accuracy: 0.9125 - val_loss: 0.1456 - val_categorical_accuracy: 0.9543\n",
      "Epoch 9/100\n",
      "1875/1875 [==============================] - 3s 1ms/step - loss: 0.2700 - categorical_accuracy: 0.9179 - val_loss: 0.1321 - val_categorical_accuracy: 0.9587\n",
      "Epoch 10/100\n",
      "1875/1875 [==============================] - 2s 1ms/step - loss: 0.2516 - categorical_accuracy: 0.9248 - val_loss: 0.1249 - val_categorical_accuracy: 0.9610\n",
      "Epoch 11/100\n",
      "1875/1875 [==============================] - 2s 1ms/step - loss: 0.2437 - categorical_accuracy: 0.9248 - val_loss: 0.1189 - val_categorical_accuracy: 0.9619\n",
      "Epoch 12/100\n",
      "1875/1875 [==============================] - 3s 1ms/step - loss: 0.2272 - categorical_accuracy: 0.9321 - val_loss: 0.1141 - val_categorical_accuracy: 0.9626\n",
      "Epoch 13/100\n",
      "1875/1875 [==============================] - 2s 1ms/step - loss: 0.2168 - categorical_accuracy: 0.9341 - val_loss: 0.1093 - val_categorical_accuracy: 0.9647\n",
      "Epoch 14/100\n",
      "1875/1875 [==============================] - 2s 1ms/step - loss: 0.2118 - categorical_accuracy: 0.9362 - val_loss: 0.1104 - val_categorical_accuracy: 0.9653\n",
      "Epoch 15/100\n",
      "1875/1875 [==============================] - 2s 1ms/step - loss: 0.2043 - categorical_accuracy: 0.9375 - val_loss: 0.1043 - val_categorical_accuracy: 0.9657\n",
      "Epoch 16/100\n",
      "1875/1875 [==============================] - 2s 1ms/step - loss: 0.1935 - categorical_accuracy: 0.9406 - val_loss: 0.0974 - val_categorical_accuracy: 0.9697\n",
      "Epoch 17/100\n",
      "1875/1875 [==============================] - 2s 1ms/step - loss: 0.1877 - categorical_accuracy: 0.9436 - val_loss: 0.0940 - val_categorical_accuracy: 0.9704\n",
      "Epoch 18/100\n",
      "1875/1875 [==============================] - 2s 1ms/step - loss: 0.1804 - categorical_accuracy: 0.9458 - val_loss: 0.0972 - val_categorical_accuracy: 0.9705\n",
      "Epoch 19/100\n",
      "1875/1875 [==============================] - 2s 1ms/step - loss: 0.1784 - categorical_accuracy: 0.9455 - val_loss: 0.0925 - val_categorical_accuracy: 0.9702\n",
      "Epoch 20/100\n",
      "1875/1875 [==============================] - 2s 1ms/step - loss: 0.1721 - categorical_accuracy: 0.9474 - val_loss: 0.0862 - val_categorical_accuracy: 0.9717\n",
      "Epoch 21/100\n",
      "1875/1875 [==============================] - 2s 1ms/step - loss: 0.1677 - categorical_accuracy: 0.9491 - val_loss: 0.0904 - val_categorical_accuracy: 0.9709\n",
      "Epoch 22/100\n",
      "1875/1875 [==============================] - 2s 1ms/step - loss: 0.1612 - categorical_accuracy: 0.9496 - val_loss: 0.0831 - val_categorical_accuracy: 0.9730\n",
      "Epoch 23/100\n",
      "1875/1875 [==============================] - 2s 1ms/step - loss: 0.1617 - categorical_accuracy: 0.9497 - val_loss: 0.0905 - val_categorical_accuracy: 0.9723\n",
      "Epoch 24/100\n",
      "1875/1875 [==============================] - 2s 1ms/step - loss: 0.1598 - categorical_accuracy: 0.9507 - val_loss: 0.0868 - val_categorical_accuracy: 0.9735\n",
      "Epoch 25/100\n",
      "1875/1875 [==============================] - 2s 1ms/step - loss: 0.1542 - categorical_accuracy: 0.9522 - val_loss: 0.0845 - val_categorical_accuracy: 0.9741\n",
      "Epoch 26/100\n",
      "1875/1875 [==============================] - 2s 1ms/step - loss: 0.1469 - categorical_accuracy: 0.9546 - val_loss: 0.0854 - val_categorical_accuracy: 0.9740\n",
      "Epoch 27/100\n",
      "1875/1875 [==============================] - 2s 1ms/step - loss: 0.1452 - categorical_accuracy: 0.9564 - val_loss: 0.0807 - val_categorical_accuracy: 0.9746\n",
      "Epoch 28/100\n",
      "1875/1875 [==============================] - 2s 1ms/step - loss: 0.1457 - categorical_accuracy: 0.9553 - val_loss: 0.0799 - val_categorical_accuracy: 0.9749\n",
      "Epoch 29/100\n",
      "1875/1875 [==============================] - 2s 1ms/step - loss: 0.1438 - categorical_accuracy: 0.9557 - val_loss: 0.0739 - val_categorical_accuracy: 0.9767\n",
      "Epoch 30/100\n",
      "1875/1875 [==============================] - 2s 1ms/step - loss: 0.1350 - categorical_accuracy: 0.9587 - val_loss: 0.0765 - val_categorical_accuracy: 0.9760\n",
      "Epoch 31/100\n",
      "1875/1875 [==============================] - 2s 1ms/step - loss: 0.1332 - categorical_accuracy: 0.9586 - val_loss: 0.0765 - val_categorical_accuracy: 0.9752\n",
      "Epoch 32/100\n",
      "1875/1875 [==============================] - 2s 1ms/step - loss: 0.1312 - categorical_accuracy: 0.9593 - val_loss: 0.0867 - val_categorical_accuracy: 0.9731\n",
      "Epoch 33/100\n",
      "1875/1875 [==============================] - 2s 1ms/step - loss: 0.1315 - categorical_accuracy: 0.9590 - val_loss: 0.0767 - val_categorical_accuracy: 0.9758\n",
      "Epoch 34/100\n",
      "1875/1875 [==============================] - 2s 1ms/step - loss: 0.1277 - categorical_accuracy: 0.9606 - val_loss: 0.0761 - val_categorical_accuracy: 0.9764\n",
      "Epoch 35/100\n",
      "1875/1875 [==============================] - 2s 1ms/step - loss: 0.1265 - categorical_accuracy: 0.9619 - val_loss: 0.0737 - val_categorical_accuracy: 0.9777\n",
      "Epoch 36/100\n",
      "1875/1875 [==============================] - 2s 1ms/step - loss: 0.1252 - categorical_accuracy: 0.9616 - val_loss: 0.0714 - val_categorical_accuracy: 0.9768\n",
      "Epoch 37/100\n",
      "1875/1875 [==============================] - 2s 1ms/step - loss: 0.1228 - categorical_accuracy: 0.9618 - val_loss: 0.0751 - val_categorical_accuracy: 0.9764\n",
      "Epoch 38/100\n",
      "1875/1875 [==============================] - 2s 1ms/step - loss: 0.1205 - categorical_accuracy: 0.9635 - val_loss: 0.0761 - val_categorical_accuracy: 0.9766\n",
      "Epoch 39/100\n",
      "1875/1875 [==============================] - 2s 1ms/step - loss: 0.1214 - categorical_accuracy: 0.9631 - val_loss: 0.0776 - val_categorical_accuracy: 0.9758\n",
      "Epoch 40/100\n",
      "1875/1875 [==============================] - 2s 1ms/step - loss: 0.1215 - categorical_accuracy: 0.9621 - val_loss: 0.0718 - val_categorical_accuracy: 0.9781\n",
      "Epoch 41/100\n",
      "1875/1875 [==============================] - 2s 1ms/step - loss: 0.1148 - categorical_accuracy: 0.9650 - val_loss: 0.0716 - val_categorical_accuracy: 0.9788\n",
      "Epoch 42/100\n",
      "1875/1875 [==============================] - 2s 1ms/step - loss: 0.1147 - categorical_accuracy: 0.9643 - val_loss: 0.0732 - val_categorical_accuracy: 0.9767\n",
      "Epoch 43/100\n",
      "1875/1875 [==============================] - 2s 1ms/step - loss: 0.1130 - categorical_accuracy: 0.9648 - val_loss: 0.0721 - val_categorical_accuracy: 0.9779\n",
      "Epoch 44/100\n",
      "1875/1875 [==============================] - 2s 1ms/step - loss: 0.1119 - categorical_accuracy: 0.9656 - val_loss: 0.0741 - val_categorical_accuracy: 0.9768\n",
      "Epoch 45/100\n",
      "1875/1875 [==============================] - 2s 1ms/step - loss: 0.1125 - categorical_accuracy: 0.9657 - val_loss: 0.0708 - val_categorical_accuracy: 0.9774\n",
      "Epoch 46/100\n",
      "1875/1875 [==============================] - 2s 1ms/step - loss: 0.1095 - categorical_accuracy: 0.9657 - val_loss: 0.0697 - val_categorical_accuracy: 0.9786\n",
      "Epoch 47/100\n",
      "1875/1875 [==============================] - 2s 1ms/step - loss: 0.1101 - categorical_accuracy: 0.9665 - val_loss: 0.0666 - val_categorical_accuracy: 0.9797\n",
      "Epoch 48/100\n",
      "1875/1875 [==============================] - 2s 1ms/step - loss: 0.1056 - categorical_accuracy: 0.9675 - val_loss: 0.0704 - val_categorical_accuracy: 0.9785\n",
      "Epoch 49/100\n",
      "1875/1875 [==============================] - 2s 1ms/step - loss: 0.1041 - categorical_accuracy: 0.9683 - val_loss: 0.0707 - val_categorical_accuracy: 0.9790\n",
      "Epoch 50/100\n",
      "1875/1875 [==============================] - 2s 1ms/step - loss: 0.1083 - categorical_accuracy: 0.9670 - val_loss: 0.0703 - val_categorical_accuracy: 0.9781\n",
      "Epoch 51/100\n",
      "1875/1875 [==============================] - 2s 1ms/step - loss: 0.1028 - categorical_accuracy: 0.9674 - val_loss: 0.0679 - val_categorical_accuracy: 0.9785\n",
      "Epoch 52/100\n",
      "1875/1875 [==============================] - 2s 1ms/step - loss: 0.1031 - categorical_accuracy: 0.9679 - val_loss: 0.0699 - val_categorical_accuracy: 0.9767\n",
      "Epoch 53/100\n",
      "1875/1875 [==============================] - 2s 1ms/step - loss: 0.1031 - categorical_accuracy: 0.9677 - val_loss: 0.0680 - val_categorical_accuracy: 0.9780\n",
      "Epoch 54/100\n",
      "1875/1875 [==============================] - 2s 1ms/step - loss: 0.1023 - categorical_accuracy: 0.9686 - val_loss: 0.0685 - val_categorical_accuracy: 0.9780\n",
      "Epoch 55/100\n",
      "1875/1875 [==============================] - 2s 1ms/step - loss: 0.0998 - categorical_accuracy: 0.9696 - val_loss: 0.0699 - val_categorical_accuracy: 0.9783\n",
      "Epoch 56/100\n",
      "1875/1875 [==============================] - 2s 1ms/step - loss: 0.0976 - categorical_accuracy: 0.9693 - val_loss: 0.0675 - val_categorical_accuracy: 0.9786\n",
      "Epoch 57/100\n",
      "1875/1875 [==============================] - 2s 1ms/step - loss: 0.0954 - categorical_accuracy: 0.9694 - val_loss: 0.0672 - val_categorical_accuracy: 0.9791\n"
     ]
    }
   ]
  },
  {
   "cell_type": "code",
   "source": [
    "plt.figure(figsize=(12, 6))\n",
    "\n",
    "plt.subplot(1, 2, 1)\n",
    "plt.plot(history.history['categorical_accuracy'])\n",
    "plt.plot(history.history['val_categorical_accuracy'])\n",
    "plt.title('Model Accuracy')\n",
    "plt.ylabel('Accuracy')\n",
    "plt.xlabel('Epoch')\n",
    "plt.legend(['Train', 'Validation'], loc='upper left')\n",
    "\n",
    "# Plotting loss\n",
    "plt.subplot(1, 2, 2)\n",
    "plt.plot(history.history['loss'][1:])\n",
    "plt.plot(history.history['val_loss'])\n",
    "plt.title('Model Loss')\n",
    "plt.ylabel('Loss')\n",
    "plt.xlabel('Epoch')\n",
    "plt.legend(['Train', 'Validation'], loc='upper left')\n",
    "\n",
    "plt.tight_layout()\n",
    "plt.show()"
   ],
   "metadata": {
    "colab": {
     "base_uri": "https://localhost:8080/",
     "height": 927
    },
    "id": "_Q4cjXkxevGN",
    "outputId": "67d8e014-87c6-4658-c53b-73feb5f8fe18",
    "ExecuteTime": {
     "end_time": "2024-03-05T02:17:45.074671Z",
     "start_time": "2024-03-05T02:17:44.819361Z"
    }
   },
   "execution_count": 37,
   "outputs": [
    {
     "data": {
      "text/plain": "<Figure size 1200x600 with 2 Axes>",
      "image/png": "[encoded data removed]"
     },
     "metadata": {},
     "output_type": "display_data"
    }
   ]
  },
  {
   "cell_type": "code",
   "source": [
    "predictions = model.predict(test_images[:5])\n",
    "\n",
    "print(\"Predictions:\", np.argmax(predictions, axis=1), np.max(np.multiply(predictions, 100), axis=1)) # [7, 2, 1, 0, 4]\n",
    "print(\"Actual:     \", test_labels[:5])  # [7, 2, 1, 0, 4]"
   ],
   "metadata": {
    "colab": {
     "base_uri": "https://localhost:8080/"
    },
    "id": "g6wNiQVNey0E",
    "outputId": "bb39dfb8-4d84-40c1-be7c-cc98ad2ed63b",
    "ExecuteTime": {
     "end_time": "2024-03-05T02:17:45.174281Z",
     "start_time": "2024-03-05T02:17:45.089761Z"
    }
   },
   "execution_count": 38,
   "outputs": [
    {
     "name": "stdout",
     "output_type": "stream",
     "text": [
      "1/1 [==============================] - 0s 54ms/step\n",
      "Predictions: [7 2 1 0 4] [99.98542 99.98798 99.99294 99.98183 99.89435]\n",
      "Actual:      [7 2 1 0 4]\n"
     ]
    }
   ]
  },
  {
   "cell_type": "code",
   "execution_count": 39,
   "outputs": [],
   "source": [
    "model.save('model.keras')"
   ],
   "metadata": {
    "collapsed": false,
    "ExecuteTime": {
     "end_time": "2024-03-05T02:17:45.174532Z",
     "start_time": "2024-03-05T02:17:45.148081Z"
    }
   }
  }
 ]
}
